{
 "cells": [
  {
   "cell_type": "code",
   "execution_count": 3,
   "id": "d22846a1",
   "metadata": {},
   "outputs": [],
   "source": [
    "from cascade.cascade import Cascade\n",
    "datadir = \"C:/Users/Lexi/PycharmProjects/CASCADE/cascade/data/outwash_data/\"  # input datadir, add the default b3d files here\n",
    "cascade = Cascade(\n",
    "    datadir, \n",
    "    name=\"default\",  \n",
    "    elevation_file=\"barrier3d-default-elevation.npy\",  # if using different elevation file, change this before \"-elevation.npy\"\n",
    "    dune_file=\"barrier3d-default-dunes.npy\",\n",
    "    parameter_file=\"outwash-parameters.yaml\",\n",
    "    storm_file=\"barrier3d-default-storms.npy\",  # same as \"StormSeries_1kyrs_VCR_Berm1pt9m_Slope0pt04_01.npy\"\n",
    "    num_cores=1,  # cascade can run in parallel, can never specify more cores than that\n",
    "    roadway_management_module=False,\n",
    "    alongshore_transport_module=False,\n",
    "    beach_nourishment_module=False,\n",
    "    community_economics_module=False,\n",
    "    outwash_module=True,\n",
    "    alongshore_section_count=1,\n",
    "    time_step_count=65,\n",
    "    wave_height=1, # ---------- for BRIE and Barrier3D --------------- #\n",
    "    wave_period=7,\n",
    "    wave_asymmetry=0.8,\n",
    "    wave_angle_high_fraction=0.2,\n",
    "    bay_depth=3.0,\n",
    "    s_background=0.001,\n",
    "    berm_elevation=1.9,\n",
    "    MHW=0.46,\n",
    "    beta=0.04,\n",
    "    sea_level_rise_rate=0.004,\n",
    "    sea_level_rise_constant=True,\n",
    "    background_erosion=0.0,\n",
    "    min_dune_growth_rate=0.25,\n",
    "    max_dune_growth_rate=0.65,\n",
    "    road_ele=1.7,  # ---------- roadway management --------------- #\n",
    "    road_width=30,\n",
    "    road_setback=30,\n",
    "    dune_design_elevation=3.7,\n",
    "    dune_minimum_elevation=2.2,\n",
    "    trigger_dune_knockdown=False,\n",
    "    group_roadway_abandonment=None,\n",
    "    nourishment_interval=None, # ---------- beach and dune (\"community\") management --------------- #\n",
    "    nourishment_volume=300.0,\n",
    "    overwash_filter=40,\n",
    "    overwash_to_dune=10,\n",
    "    number_of_communities=1, # ---------- coastal real estate markets (in development) --------------- #\n",
    "    sand_cost=10,\n",
    "    taxratio_oceanfront=1,\n",
    "    external_housing_market_value_oceanfront=6e5,\n",
    "    external_housing_market_value_nonoceanfront=4e5,\n",
    "    fixed_cost_beach_nourishment=2e6,\n",
    "    fixed_cost_dune_nourishment=2e5,\n",
    "    nourishment_cost_subsidy=10e6,\n",
    "    house_footprint_x=15,\n",
    "    house_footprint_y=20,\n",
    "    beach_full_cross_shore=70,\n",
    "#     outwash_storm_years=\"outwash_years10.npy\",  # --------- outwasher (in development) ------------ #\n",
    "    outwash_storm_years=\"outwash_years.npy\",\n",
    "    outwash_hydrograph=\"outwash_baylevels10.npy\",\n",
    "    washout_to_shoreface=True,\n",
    ")"
   ]
  },
  {
   "cell_type": "code",
   "execution_count": null,
   "id": "09e4e0c1",
   "metadata": {},
   "outputs": [
    {
     "name": "stdout",
     "output_type": "stream",
     "text": [
      " Time Step:  10"
     ]
    },
    {
     "name": "stderr",
     "output_type": "stream",
     "text": [
      "c:\\users\\lexi\\pycharmprojects\\barrier3d\\barrier3d\\barrier3d.py:1501: RuntimeWarning: invalid value encountered in double_scalars\n",
      "  Qs1 = Qs0 * Q1 / (Q1 + Q2 + Q3)\n",
      "c:\\users\\lexi\\pycharmprojects\\barrier3d\\barrier3d\\barrier3d.py:1502: RuntimeWarning: invalid value encountered in double_scalars\n",
      "  Qs2 = Qs0 * Q2 / (Q1 + Q2 + Q3)\n",
      "c:\\users\\lexi\\pycharmprojects\\barrier3d\\barrier3d\\barrier3d.py:1503: RuntimeWarning: invalid value encountered in double_scalars\n",
      "  Qs3 = Qs0 * Q3 / (Q1 + Q2 + Q3)\n"
     ]
    },
    {
     "name": "stdout",
     "output_type": "stream",
     "text": [
      " Time Step:  59"
     ]
    }
   ],
   "source": [
    "for time_step in range(cascade._nt - 1):\n",
    "    # Print time step to screen (NOTE: time_index in each model is time_step+1)\n",
    "    print(\"\\r\", \"Time Step: \", time_step, end=\"\")\n",
    "    cascade.update()\n",
    "    if cascade.b3d_break:\n",
    "        break"
   ]
  },
  {
   "cell_type": "code",
   "execution_count": null,
   "id": "44f47827",
   "metadata": {},
   "outputs": [],
   "source": []
  }
 ],
 "metadata": {
  "kernelspec": {
   "display_name": "Python 3 (ipykernel)",
   "language": "python",
   "name": "python3"
  },
  "language_info": {
   "codemirror_mode": {
    "name": "ipython",
    "version": 3
   },
   "file_extension": ".py",
   "mimetype": "text/x-python",
   "name": "python",
   "nbconvert_exporter": "python",
   "pygments_lexer": "ipython3",
   "version": "3.8.8"
  }
 },
 "nbformat": 4,
 "nbformat_minor": 5
}
