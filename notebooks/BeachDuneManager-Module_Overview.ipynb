{
 "cells": [
  {
   "cell_type": "markdown",
   "metadata": {},
   "source": [
    "# The BeachDuneManager module: beach and dune management for coastal communities in CASCADE"
   ]
  },
  {
   "cell_type": "markdown",
   "metadata": {},
   "source": [
    "In this notebook we illustrate the functionality of the BeachDuneManager module within `CASCADE`. In the BeachDuneManager module, we incorporate beach nourishment and dune management strategies to maintain a coastal community at a fixed cross-shore position. Specifically, we: \n",
    "- Widen the beach via nourishment of the shoreface\n",
    "- Nourish dunes or rebuild following storms\n",
    "- Remove overwash to account for the filtering effect of development on overwash deposition (Rogers et al., 2015) and place it back on the shoreface\n",
    "- Remove overwash to account for bulldozing and place back on the adjacent dunes\n",
    "\n",
    "These management strategies are employed until the barrier reaches a minimum width and can no longer sustain a community, here defined as the combined width of a single roadway and building footprint (50 m). Thereafter, the community is abandoned and the barrier is allowed to evolve in accordance with the rules and dynamics in Barrier3D. \n",
    "\n",
    "For a complete description of the dynamics in the BeachDuneManager module, we direct the user to Anarde et al., (). Here, we seek only to hold your hand and walk you through use of the BeachDuneManager.      "
   ]
  },
  {
   "cell_type": "markdown",
   "metadata": {},
   "source": [
    "When initializing the BeachDuneManager, the following variables can be specified by the user, with the default values shown below:\n",
    "```\n",
    "        - nourishment_interval: None\n",
    "            Interval that nourishment occurs [yrs]\n",
    "        - nourishment_volume: 100\n",
    "            Volume of nourished sand along cross-shore transect [m^3/m]\n",
    "        - initial_beach_width: 30\n",
    "            Initial beach width [m]\n",
    "        - dune_design_elevation: 3.7\n",
    "            Elevation to which dune is rebuilt to [m MHW]; does not change with RSLR.\n",
    "        - time_step_count: 500\n",
    "            Number of time steps.\n",
    "        - original_growth_param: None\n",
    "            Dune growth parameters from first time step of barrier3d, before human modifications [unitless]\n",
    "        - overwash_filter: 40\n",
    "            Percent overwash removed from barrier interior and placed back on the shoreface\n",
    "            [40-90% (residential-->commercial) from Rogers et al., 2015]\n",
    "        - overwash_to_dune: 10\n",
    "            Percent overwash removed from barrier interior to dunes [%, overwash_filter+overwash_to_dune <=100]\n",
    "``` \n",
    "Note that when the BeachDuneManager is initialized in `CASCADE`, the initial beach width is calculated based on the user supplied slope and berm elevation.\n",
    "\n",
    "In the examples below, we initialize `CASCADE` with the default wave climate and dune dynamics (average dune growth rate of 0.45), but increase the rate of sea level rise to 0.007 m/yr and simulate only one 500 m `Barrier3D` domain. All other optional modules are turned off (alongshore sediment transport from `BRIE`, community dynamics from `CHOM`, and roadway management). "
   ]
  },
  {
   "cell_type": "code",
   "execution_count": null,
   "metadata": {},
   "outputs": [],
   "source": [
    "from pathlib import Path\n",
    "\n",
    "import matplotlib.pyplot as plt\n",
    "import numpy as np\n",
    "from tqdm import tqdm\n",
    "\n",
    "# sys.path.extend(['/Users/KatherineAnardeWheels/PycharmProjects/Barrier3D', '/Users/KatherineAnardeWheels/PycharmProjects/brie', '/Users/KatherineAnardeWheels/PycharmProjects/CASCADE'])\n",
    "datadir = \"../data/\"\n",
    "Path(datadir)\n",
    "notebook_dir = \"../notebooks/\"\n",
    "\n",
    "from chom import Chom\n",
    "\n",
    "from cascade import Cascade\n",
    "from cascade.tools import plotters as cascade_plt"
   ]
  },
  {
   "cell_type": "markdown",
   "metadata": {},
   "source": [
    "## OPTION 1: Nourishment and dune rebuilding at discrete intervals"
   ]
  },
  {
   "cell_type": "markdown",
   "metadata": {},
   "source": [
    "In this first example, we start by nourishing one Barrier3D domain at discrete intervals, here every 10 years, with a nourishment volume of 100 $m^3/m$, which for the default shoreface and barrier configuration produces about 20 m of shoreline progradation. We do this for 50 years and then change to a 20 year nourishment interval with 300 $m^3/m$ of nourishment volume. We specify that 40% of overwash is filtered by development (residential, Rogers et al., 2015) and 10% of the overwash that is deposited is removed and placed on adjacent dunes -- see the notebook BeachDuneManager-Overwash_Sensitivity for more details.\n",
    "\n",
    "**Note that when specifying nourishment at discrete intervals, both the shoreface AND the dune are nourished.**"
   ]
  },
  {
   "cell_type": "code",
   "execution_count": null,
   "metadata": {},
   "outputs": [],
   "source": [
    "option1_name = \"nourishment_intervals\"\n",
    "iB3D = 0\n",
    "total_time = 100\n",
    "\n",
    "cascade = Cascade(\n",
    "    datadir,\n",
    "    name=option1_name,\n",
    "    sea_level_rise_rate=0.007,\n",
    "    alongshore_section_count=1,\n",
    "    time_step_count=total_time,\n",
    "    num_cores=1,\n",
    "    roadway_management_module=False,\n",
    "    alongshore_transport_module=False,\n",
    "    beach_nourishment_module=True,\n",
    "    community_economics_module=False,\n",
    "    dune_design_elevation=3.7,\n",
    "    nourishment_interval=10,  # yrs\n",
    "    nourishment_volume=100,\n",
    "    background_erosion=-1.0,  # m/yr\n",
    "    overwash_filter=40,\n",
    "    overwash_to_dune=10,\n",
    ")\n",
    "\n",
    "\n",
    "# Loop for 50 years at a 10 year interval, 100 m^3/m and then 50 years at a 20 year interval with 300 m^3/m\n",
    "nt = 50\n",
    "for _ in tqdm(range(nt - 1)):\n",
    "    cascade.update()\n",
    "    if cascade.b3d_break:\n",
    "        break\n",
    "\n",
    "# during the CASCADE initialization, the nourishment interval and volume is specified individually for each\n",
    "# barrier3d alongshore cell; so to update these values, we need to specify which barrier3d cell we want to modify\n",
    "# (here, we only have one cell)\n",
    "cascade.nourishment_interval[iB3D] = 20  # increase to 20 years\n",
    "cascade.nourishment_volume[iB3D] = 300  # increase to 300 m^3/m\n",
    "\n",
    "for _ in tqdm(range(nt)):\n",
    "    cascade.update()\n",
    "    if cascade.b3d_break:\n",
    "        break"
   ]
  },
  {
   "cell_type": "code",
   "execution_count": null,
   "metadata": {},
   "outputs": [],
   "source": [
    "fig = plt.figure(figsize=(12, 8))\n",
    "plt.subplot(2, 2, 1)\n",
    "plt.plot(cascade.nourishments[iB3D].beach_width)\n",
    "plt.title(\"beach width\")\n",
    "plt.ylabel(\"m\")\n",
    "\n",
    "plt.subplot(2, 2, 2)\n",
    "plt.plot(cascade.nourishments[iB3D]._nourishment_volume_TS)\n",
    "plt.title(\"nourishment volume\")\n",
    "plt.ylabel(\"m^3/m\")\n",
    "\n",
    "plt.subplot(2, 2, 3)\n",
    "plt.plot(cascade.nourishments[iB3D]._rebuild_dune_volume_TS)\n",
    "plt.title(\"dune sand volume\")\n",
    "plt.ylabel(\"m^3\")\n",
    "plt.xlabel(\"years\")\n",
    "\n",
    "plt.subplot(2, 2, 4)\n",
    "plt.plot(np.array(cascade.barrier3d[iB3D]._x_s_TS) * 10)\n",
    "plt.title(\"shoreline position\")\n",
    "plt.ylabel(\"m\")\n",
    "plt.xlabel(\"years\")\n",
    "\n",
    "time_step = [2, 3, 4, 68, 69, 70]\n",
    "fig = cascade_plt.plot_ModelTransects(cascade, time_step[0:3], iB3D=0)\n",
    "fig.set_title(\"Effect of filtering overwash on shoreface\")\n",
    "fig.set_xlim([40, 60])\n",
    "fig.set_ylim([-1, 2.5])\n",
    "fig2 = cascade_plt.plot_ModelTransects(cascade, time_step[3:6], iB3D=0)\n",
    "fig2.set_title(\"Profile evolution after nourishment\")"
   ]
  },
  {
   "cell_type": "code",
   "execution_count": null,
   "metadata": {},
   "outputs": [],
   "source": [
    "time_step = [68, 69]\n",
    "sea_level = cascade.barrier3d[iB3D]._SL  # always zero\n",
    "y_shoreline = 0  # also doesn't change\n",
    "# y_shoreface = (sea_level - cascade.barrier3d[iB3D].DShoreface) * 10  # also doesn't change\n",
    "x_shoreface = np.array(cascade.barrier3d[iB3D]._x_t_TS) * 10\n",
    "x_shoreline = np.array(cascade.barrier3d[iB3D]._x_s_TS) * 10\n",
    "# y_shoreline = sea_level\n",
    "y_shoreface = cascade.barrier3d[iB3D].DShoreface * 10\n",
    "\n",
    "area_pre_nourish = np.trapz(\n",
    "    [y_shoreface, y_shoreline], x=[x_shoreface[time_step[0]], x_shoreline[time_step[0]]]\n",
    ")\n",
    "area_post_nourish = np.trapz(\n",
    "    [y_shoreface, y_shoreline], x=[x_shoreface[time_step[1]], x_shoreline[time_step[1]]]\n",
    ")\n",
    "area_pre_nourish - area_post_nourish"
   ]
  },
  {
   "cell_type": "markdown",
   "metadata": {},
   "source": [
    "Now that I've integrated, I'm not sure what it tells us other than the area of the wedge...bleh. Ignore."
   ]
  },
  {
   "cell_type": "markdown",
   "metadata": {},
   "source": [
    "In the time series figures above, we see that nourishment in the first 50 years (every 10 years at 100 $m^3/m$) cannot keep up with shoreline erosion, which in this simulation includes that from 0.007 m/yr of sea level rise and from 1 m/yr of background erosion. Note that while we allow the beach width to reach zero, an unrealistic phenonmenon, this only implies in the CASCADE framework that dune migration is turned back on and the island is allowed to transgress landward. We can see these dynamics in planform view with the built-in gif plotter:"
   ]
  },
  {
   "cell_type": "code",
   "execution_count": null,
   "metadata": {},
   "outputs": [],
   "source": [
    "cascade_plt.plot_ElevAnimation_Humans_BeachDuneManager(\n",
    "    cascade, ny=1, directory=notebook_dir, TMAX=99, name=option1_name, TMAX_SIM=100\n",
    ")"
   ]
  },
  {
   "cell_type": "code",
   "execution_count": null,
   "metadata": {},
   "outputs": [],
   "source": [
    "gif_dir = notebook_dir + \"Output/\" + option1_name + \"/SimFrames/\"\n",
    "Path(gif_dir)"
   ]
  },
  {
   "cell_type": "markdown",
   "metadata": {},
   "source": [
    "![SegmentLocal](../notebooks/Output/nourishment_intervals/SimFrames/elev.gif \"segment\")"
   ]
  },
  {
   "cell_type": "markdown",
   "metadata": {},
   "source": [
    "As shown in the gif plotter, we plot an intermediate \"0.5 year\" timestep, which corresponds to the post-storm barrier configuration *BEFORE* we employ beach and dune management in the BeachDuneManager. These variables are saved to the nourishment module and all begin with \"post_storm...\". For example, the value for `nourishments[iB3D].post_storm_beach_width[2]` corresponds to the post storm beach width prior to any nourishment decisions during year 2 (i.e., year 1.5). Every variable that is saved to the 1-yr time step in Barrier3D reflects modifications by human management decisions. \n",
    "\n",
    "Note that in the above plotter, each cell corresponds to a decameter and therefore the shoreline position and beach widths are rounded and not representative of the actual shoreline position and beach width (however, the evolution of the shoreline and dune migration is correct). We can use another built-in plotter below to view relevant statistics that include the \"0.5 year\" time step -- including the actual beach width, shoreline position, and dune toe location. This plotter is also particularly insightful for how barrier width, height, and overwash fluxes are altered by our management decisions."
   ]
  },
  {
   "cell_type": "code",
   "execution_count": null,
   "metadata": {},
   "outputs": [],
   "source": [
    "(\n",
    "    BarrierWidth,\n",
    "    DuneCrestMean,\n",
    "    BarrierHeight,\n",
    "    bh_rate,\n",
    "    bw_rate,\n",
    "    sc_rate,\n",
    "    DuneCrestMin,\n",
    "    DuneCrestMax,\n",
    "    shoreline_position,\n",
    "    shoreface_slope,\n",
    "    beach_width,\n",
    "    overwash,\n",
    "    dune_toe,\n",
    ") = cascade_plt.plot_nonlinear_stats_BeachDuneManager(\n",
    "    cascade.barrier3d,\n",
    "    iB3D,\n",
    "    tmax_management=100,\n",
    "    tmax_sim=100,\n",
    "    nourishments=cascade.nourishments,\n",
    "    post_storm_dunes=cascade.nourishments[iB3D]._post_storm_dunes,\n",
    "    post_storm_x_s=cascade.nourishments[iB3D]._post_storm_x_s,\n",
    "    post_storm_s_sf=cascade.nourishments[iB3D]._post_storm_s_sf,\n",
    "    post_storm_ave_interior_width=cascade.nourishments[\n",
    "        iB3D\n",
    "    ]._post_storm_ave_interior_width,\n",
    "    post_storm_ave_interior_height=cascade.nourishments[\n",
    "        iB3D\n",
    "    ]._post_storm_ave_interior_height,\n",
    "    post_storm_beach_width=cascade.nourishments[iB3D]._post_storm_beach_width,\n",
    "    post_storm_Qow=cascade.nourishments[iB3D]._post_storm_Qow,\n",
    "    design_elevation=cascade.nourishments[iB3D]._dune_design_elevation,  # m MHW,\n",
    "    rebuild_threshold=None,\n",
    "    dunes_rebuilt=cascade.nourishments[iB3D]._dunes_rebuilt_TS,\n",
    ")"
   ]
  },
  {
   "cell_type": "markdown",
   "metadata": {},
   "source": [
    "The dune dynamics at first glance seem pretty wacky, but if we look at individual figures as part of the gif, we can see that the first line of the dune gets eroded at 57.5 years and the second at 64.5 years, leaving a small foredune, growing at a low rate. The dunes are not rebuilt until the next nourishment at 69 years.\n",
    "\n",
    "As a check on the dynamics in Barrier3D, here we want to see if the dunes migrate when the beach width goes to zero and the shoreline surpasses a full cell width (10 m). Indeed, dunes only migrate when humans allow them to (beach width = 0), and when the shoreline moves a full cell width -- in year 58 and 65. Note that if one was to check the `post_storm_x_s`, they would find that the dunes actually migrated at 57.5 since dune migration occurrs prior to any human modifications."
   ]
  },
  {
   "cell_type": "code",
   "execution_count": null,
   "metadata": {},
   "outputs": [],
   "source": [
    "frac_grid_cell = np.array(cascade.barrier3d[iB3D]._x_s_TS) % 1\n",
    "diff = np.hstack([0, np.diff(frac_grid_cell)])\n",
    "diff[~np.array(cascade.nourishments[iB3D]._dune_migration_on)] = 0\n",
    "shoreline_transgressed = diff < 0\n",
    "dunes_migrated = cascade.barrier3d[iB3D]._ShorelineChangeTS < 0\n",
    "print(\"Indices for when dunes migrated = \", np.where(dunes_migrated)[0])\n",
    "print(\"Indices for when shoreline transgressed = \", np.where(shoreline_transgressed)[0])\n",
    "# shoreline_transgressed == dunes_migrated  # for pytest"
   ]
  },
  {
   "cell_type": "markdown",
   "metadata": {},
   "source": [
    "## OPTION 2: Nourishment and dune rebuilding based on user indicators"
   ]
  },
  {
   "cell_type": "markdown",
   "metadata": {},
   "source": [
    "The second option for shoreface nourishment and dune rebuilding is based on user supplied indicators. Here, we trigger nourishment using the `nourish_now` parameter after the beach width reaches a minimum beach width (30 m). The dune is rebuilt using the `rebuild_dune_now` parameter only when the dune is knocked down (by storms) to a minimum dune height (here, 0.3 m above the berm elevation). Recall that a percentage of overwash can also be removed and added to the adjacent dunes after storms up to a maximum height. Here, we also show what it looks like after a community has been abandoned -- that is, after it narrows to a point that it can no longer sustain a community. This option is that which was used in the \"Pathways to barrier drowning arising from coastal management practices\"."
   ]
  },
  {
   "cell_type": "code",
   "execution_count": null,
   "metadata": {},
   "outputs": [],
   "source": [
    "datadir = \"../../../../data/pathways_init_data/\"  # laptop\n",
    "Path(datadir)"
   ]
  },
  {
   "cell_type": "code",
   "execution_count": null,
   "metadata": {},
   "outputs": [],
   "source": [
    "iB3D = 0\n",
    "total_time = 300\n",
    "\n",
    "cascade = Cascade(\n",
    "    datadir,\n",
    "    name=\"nourish_now_test\",\n",
    "    sea_level_rise_rate=0.007,\n",
    "    alongshore_section_count=1,\n",
    "    time_step_count=total_time,\n",
    "    num_cores=1,\n",
    "    roadway_management_module=False,\n",
    "    alongshore_transport_module=False,\n",
    "    beach_nourishment_module=True,\n",
    "    community_economics_module=False,\n",
    "    dune_design_elevation=3.7,  # dune rebuilt to this height when specified\n",
    "    nourishment_interval=None,  # yrs\n",
    "    nourishment_volume=100,  # m^3/m\n",
    "    background_erosion=-1.0,  # m/yr\n",
    "    overwash_filter=90,\n",
    "    overwash_to_dune=10,\n",
    ")\n",
    "\n",
    "# loop for 200 years, but after each year, check the beach width and dune height and decide if you want to nourish\n",
    "# or rebuild dune the next year with trigger parameter\n",
    "bw_threshold = 30\n",
    "dune_threshold = 0.3 + (\n",
    "    cascade.barrier3d[iB3D].BermEl * 10\n",
    ")  # same threshold for absolute minimum elevation as in RoadwayManager (m MHW)\n",
    "\n",
    "for _ in tqdm(range(total_time - 1)):\n",
    "    cascade.update()\n",
    "    if cascade.b3d_break:\n",
    "        break\n",
    "\n",
    "    # stop managing if the barrier becomes too narrow to sustain a community\n",
    "    if cascade.community_break:\n",
    "        pass\n",
    "    else:\n",
    "        t = cascade.barrier3d[iB3D].time_index\n",
    "\n",
    "        if cascade.nourishments[iB3D].beach_width[t - 1] < bw_threshold:\n",
    "            cascade.nourish_now[iB3D] = 1\n",
    "\n",
    "        DuneDomainCrest = (\n",
    "            cascade.barrier3d[iB3D].DuneDomain[t - 1, :, :].max(axis=1)\n",
    "        )  # Maximum height of each row in dune domain [dam]\n",
    "        DuneCrestMin = (\n",
    "            np.min(DuneDomainCrest) + cascade.barrier3d[iB3D].BermEl\n",
    "        ) * 10  # m MHW\n",
    "\n",
    "        if DuneCrestMin < dune_threshold:\n",
    "            cascade.rebuild_dune_now[iB3D] = 1"
   ]
  },
  {
   "cell_type": "code",
   "execution_count": null,
   "metadata": {},
   "outputs": [],
   "source": [
    "(\n",
    "    BarrierWidth,\n",
    "    DuneCrestMean,\n",
    "    BarrierHeight,\n",
    "    bh_rate,\n",
    "    bw_rate,\n",
    "    sc_rate,\n",
    "    DuneCrestMin,\n",
    "    DuneCrestMax,\n",
    "    shoreline_position,\n",
    "    shoreface_slope,\n",
    "    beach_width,\n",
    "    dune_toe,\n",
    "    overwash,\n",
    ") = cascade_plt.plot_nonlinear_stats_BeachDuneManager(\n",
    "    cascade.barrier3d,\n",
    "    iB3D,\n",
    "    tmax_management=224,\n",
    "    tmax_sim=300,\n",
    "    nourishments=cascade.nourishments,\n",
    "    post_storm_dunes=cascade.nourishments[iB3D]._post_storm_dunes,\n",
    "    post_storm_x_s=cascade.nourishments[iB3D]._post_storm_x_s,\n",
    "    post_storm_s_sf=cascade.nourishments[iB3D]._post_storm_s_sf,\n",
    "    post_storm_ave_interior_width=cascade.nourishments[\n",
    "        iB3D\n",
    "    ]._post_storm_ave_interior_width,\n",
    "    post_storm_ave_interior_height=cascade.nourishments[\n",
    "        iB3D\n",
    "    ]._post_storm_ave_interior_height,\n",
    "    post_storm_beach_width=cascade.nourishments[iB3D]._post_storm_beach_width,\n",
    "    post_storm_Qow=cascade.nourishments[iB3D]._post_storm_Qow,\n",
    "    design_elevation=cascade.nourishments[iB3D]._dune_design_elevation,  # m MHW,\n",
    "    rebuild_threshold=dune_threshold,\n",
    "    dunes_rebuilt=cascade.nourishments[iB3D]._dunes_rebuilt_TS,\n",
    ")"
   ]
  },
  {
   "cell_type": "markdown",
   "metadata": {},
   "source": [
    "## OPTION 3: Nourishment and dune rebuilding based on CHOM (community dynamics)"
   ]
  },
  {
   "cell_type": "markdown",
   "metadata": {},
   "source": [
    "The last option for shoreface nourishment and dune rebuilding is based on coupling with the Coastal Home Ownership Model (CHOM). CHOM receives information about the coastal environment and acts on that information to cause change to the environment, including decisions about beach nourishment and dune construction and maintenance. Similar to Option 2 described above, when coupled to CHOM, we nourish using the the `nourish_now` parameter after agents in CHOM decide to nourish based on environmental parameters. Here, the `nourishment_volume` is also specified by the community agents in CHOM. In CHOM, the beach width can fall to zero. If this happens, dune migration is turned back on in Barrier3D and the first line of homes can potenitally be eaten up by storms. \n",
    "\n",
    "Dunes are also rebuilt using the `rebuild_dune_now` parameter, when specified by agents  in CHOM. In CHOM, the dune height can fall to zero. \n",
    "\n",
    "Because coupling with CHOM requires the BeachDuneManager -- CHOM is called first, then the BeachDuneManager -- we can also account for the filtering effect of residential and commercial properties, and remove overwash and place back on the dune.\n",
    "\n",
    "In the example below, we simulate the evolution of one community that spans 4 Barrier3D models (3 km)"
   ]
  },
  {
   "cell_type": "code",
   "execution_count": null,
   "metadata": {},
   "outputs": [],
   "source": [
    "datadir = \"../../../../data/pathways_init_data/\"  # laptop\n",
    "Path(datadir)"
   ]
  },
  {
   "cell_type": "code",
   "execution_count": null,
   "metadata": {},
   "outputs": [],
   "source": [
    "total_time = 50\n",
    "cascade = Cascade(\n",
    "    datadir,\n",
    "    name=\"chom_coupling_test\",\n",
    "    parameter_file=\"RUN10-CASCADE-parameters.yaml\",\n",
    "    sea_level_rise_rate=0.007,\n",
    "    alongshore_section_count=6,\n",
    "    time_step_count=total_time,\n",
    "    num_cores=6,\n",
    "    roadway_management_module=False,\n",
    "    alongshore_transport_module=True,\n",
    "    beach_nourishment_module=True,\n",
    "    community_economics_module=True,\n",
    "    dune_design_elevation=3.7,\n",
    "    nourishment_interval=None,\n",
    "    nourishment_volume=100,  # set by CHOM, dummy variable\n",
    "    number_of_communities=1,\n",
    "    sand_cost=10,\n",
    "    taxratio_oceanfront=3,\n",
    "    external_housing_market_value_oceanfront=6e5,\n",
    "    external_housing_market_value_nonoceanfront=4e5,\n",
    "    fixed_cost_beach_nourishment=1e6,\n",
    "    fixed_cost_dune_nourishment=1e5,\n",
    "    nourishment_cost_subsidy=0.9125,\n",
    "    house_footprint_x=15,\n",
    "    house_footprint_y=20,\n",
    "    beach_full_cross_shore=70,\n",
    ")\n",
    "\n",
    "# Loop for 100 years\n",
    "for _ in tqdm(range(total_time - 1)):\n",
    "    cascade.update()\n",
    "    if cascade.b3d_break:\n",
    "        break"
   ]
  },
  {
   "cell_type": "markdown",
   "metadata": {},
   "source": [
    "Now, let's compare this run with just CHOM (no CASCADE coupling) for the same (approximately) initial conditions). Note the variables below ... are the default parameters for the coupled simulation above. I just listed them here for completeness (and debugging)."
   ]
  },
  {
   "cell_type": "code",
   "execution_count": null,
   "metadata": {},
   "outputs": [],
   "source": [
    "total_time = 50\n",
    "\n",
    "chom = Chom(\n",
    "    name=\"chom_test\",\n",
    "    total_time=total_time,\n",
    "    average_interior_width=388.2,  # default is 300\n",
    "    barrier_island_height=1.09,  # 1\n",
    "    beach_width=30.0,  # None\n",
    "    dune_height=0.4977,  # None\n",
    "    shoreface_depth=8.9,  # 10\n",
    "    dune_width=20.0,  # 25\n",
    "    dune_height_build=2.26,  # 4\n",
    "    shoreline_retreat_rate=0.268,  # coupled is zero, default is 1 *** I took this from t=1 in the coupled model, ask Zach\n",
    "    alongshore_domain_extent=3000,  # ------- all variables below are default (same as in coupled) --------\n",
    "    sand_cost=10,\n",
    "    taxratio_oceanfront=3,\n",
    "    external_housing_market_value_oceanfront=6e5,\n",
    "    external_housing_market_value_nonoceanfront=4e5,\n",
    "    fixed_cost_beach_nourishment=1e6,\n",
    "    fixed_cost_dune_nourishment=1e5,\n",
    "    nourishment_cost_subsidy=0.9125,\n",
    "    house_footprint_x=15,\n",
    "    house_footprint_y=20,\n",
    "    beach_full_cross_shore=70,\n",
    "    agent_expectations_time_horizon=30,  # ------- these are also default (but we don't allow you to change them in CASCADE) --------\n",
    "    agent_erosion_update_weight=0.5,\n",
    "    beach_width_beta_oceanfront=0.25,\n",
    "    beach_width_beta_nonoceanfront=0.15,\n",
    "    discount_rate=0.06,\n",
    "    nourishment_plan_loan_amortization_length=5,\n",
    "    nourishment_plan_time_commitment=10,\n",
    ")\n",
    "\n",
    "# Loop through time until the inevitable happens\n",
    "for _ in tqdm(range(total_time - 1)):\n",
    "    chom.update()"
   ]
  },
  {
   "cell_type": "code",
   "execution_count": null,
   "metadata": {},
   "outputs": [],
   "source": [
    "fig = plt.figure(figsize=(12, 8))\n",
    "plt.subplot(2, 2, 1)\n",
    "plt.plot(cascade.nourishments[iB3D].beach_width)\n",
    "plt.title(\"beach width\")\n",
    "plt.ylabel(\"m\")\n",
    "\n",
    "plt.subplot(2, 2, 2)\n",
    "plt.plot(cascade.nourishments[iB3D]._nourishment_volume_TS)\n",
    "plt.title(\"nourishment volume\")\n",
    "plt.ylabel(\"m^3/m\")\n",
    "plt.xlabel(\"years\")\n",
    "\n",
    "plt.subplot(2, 2, 3)\n",
    "plt.plot(cascade.nourishments[iB3D]._rebuild_dune_volume_TS)\n",
    "plt.title(\"dune sand volume\")\n",
    "plt.ylabel(\"m^3\")\n",
    "plt.xlabel(\"years\")\n",
    "fig.tight_layout()"
   ]
  }
 ],
 "metadata": {
  "kernelspec": {
   "display_name": "Python 3 (ipykernel)",
   "language": "python",
   "name": "python3"
  },
  "language_info": {
   "codemirror_mode": {
    "name": "ipython",
    "version": 3
   },
   "file_extension": ".py",
   "mimetype": "text/x-python",
   "name": "python",
   "nbconvert_exporter": "python",
   "pygments_lexer": "ipython3",
   "version": "3.7.4"
  }
 },
 "nbformat": 4,
 "nbformat_minor": 2
}
