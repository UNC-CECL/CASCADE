{
 "cells": [
  {
   "cell_type": "markdown",
   "id": "5aa0d401",
   "metadata": {},
   "source": [
    "# Selection of starting high and low topographies for CASCADE CNH"
   ]
  },
  {
   "cell_type": "code",
   "execution_count": null,
   "id": "b28a4cc4",
   "metadata": {},
   "outputs": [],
   "source": [
    "import matplotlib.pyplot as plt\n",
    "import numpy as np\n",
    "\n",
    "from cascade.tools import plotters as cplt\n",
    "\n",
    "# sys.path.extend(['/Users/KatherineAnardeWheels/PycharmProjects/CASCADE', '/Users/KatherineAnardeWheels/PycharmProjects/CHOM', '/Users/KatherineAnardeWheels/PycharmProjects/Barrier3D', '/Users/KatherineAnardeWheels/PycharmProjects/brie'])\n",
    "\n",
    "\n",
    "# from scripts.pathways_ms import plotters_pathways as pathways_plt\n",
    "\n",
    "datadir = (\n",
    "    \"/Users/KatherineAnardeWheels/Research/BARis/UNC/CNH/CASCADE_save_dir/Run_Output/\"\n",
    ")"
   ]
  },
  {
   "cell_type": "markdown",
   "id": "67baa6c8",
   "metadata": {},
   "source": [
    "## High dune growth rate (r_ave=0.75)"
   ]
  },
  {
   "cell_type": "markdown",
   "id": "06606bc7",
   "metadata": {},
   "source": [
    "Use storm sequence #4 (doesn't drown over 10k years), find the maximum and minimum average interior elevations, and save the barrier topographies corresponding to these time periods. Start with the run output from the 0.75 average dune growth rate.\n",
    "\n",
    "NOTE: The plotter used below can be used to plot Roadway Mangement statistics as well, so some plots show up as blank for natural runs."
   ]
  },
  {
   "cell_type": "code",
   "execution_count": null,
   "id": "2dcd9521",
   "metadata": {},
   "outputs": [],
   "source": [
    "ib3d = 0\n",
    "tmin = 0\n",
    "tmax = 10000\n",
    "\n",
    "name_prefix = \"4-B3D_noAST_Rave_pt75_SLR_pt004_10k-yrs_04\"\n",
    "output = np.load(datadir + name_prefix + \".npz\", allow_pickle=True)\n",
    "cascade = output[\"cascade\"][0]\n",
    "(\n",
    "    BarrierWidth_75,\n",
    "    DuneCrestMean_75,\n",
    "    BarrierHeight_75,\n",
    "    bw_rate_75,\n",
    "    bh_rate_75,\n",
    "    sc_rate_75,\n",
    "    DuneCrestMin_75,\n",
    "    DuneCrestMax_75,\n",
    "    shoreline_position,\n",
    "    shoreface_slope,\n",
    "    overwash,\n",
    ") = cplt.plot_nonlinear_stats_RoadwayManager(cascade.barrier3d, ib3d, tmax, tmax)"
   ]
  },
  {
   "cell_type": "markdown",
   "id": "0e02513e",
   "metadata": {},
   "source": [
    "In looking at the max dune height, I found it weird that there was such a large dune elevation -- about the natural equilibrium elevation -- around 30 years. So I decided to take a look at the gif. The gif showed that at 31 years, a high interior cell was absorbed into the dune line when the shoreline migrated. Mystery solved.\n",
    "\n",
    "NOTE: the quality of the gif is always bad when it is generated through a Jupyter Notebook. I haven't been able to fix this."
   ]
  },
  {
   "cell_type": "code",
   "execution_count": null,
   "id": "ecac7aa1",
   "metadata": {},
   "outputs": [],
   "source": [
    "# just plot the first 40 years\n",
    "cplt.plot_ElevAnimation_CASCADE(\n",
    "    cascade,\n",
    "    ny=1,\n",
    "    directory=\"/Users/KatherineAnardeWheels/PycharmProjects/CASCADE/notebooks\",\n",
    "    TMAX_MGMT=[40],\n",
    "    name=\"test_on_dune_spike\",\n",
    "    TMAX_SIM=40,\n",
    "    beach_management_ny=[False],  # list of booleans\n",
    "    roadway_management_ny=[False],\n",
    "    y_lim=[150, 250],\n",
    "    z_lim=4.0,\n",
    "    fig_size=None,\n",
    "    fig_eps=False,\n",
    ")"
   ]
  },
  {
   "cell_type": "markdown",
   "id": "ec91d55e",
   "metadata": {},
   "source": [
    "Ok, now that we are confident with these runs, lets return to choosing a starting elevation for the human dynamics modules."
   ]
  },
  {
   "cell_type": "code",
   "execution_count": null,
   "id": "bec07e02",
   "metadata": {},
   "outputs": [],
   "source": [
    "print(\"min barrier elevation = \" + str(np.min(BarrierHeight_75)) + \" m MHW\")\n",
    "i_min_pt75 = np.argmin(BarrierHeight_75)\n",
    "print(\"index = \" + str(i_min_pt75))\n",
    "print(\"corresponding barrier width = \" + str(BarrierWidth_75[i_min_pt75]) + \" m\")\n",
    "print(\"-------------\")\n",
    "print(\"max barrier elevation = \" + str(np.max(BarrierHeight_75)) + \" m MHW\")\n",
    "i_max_pt75 = np.argmax(BarrierHeight_75)\n",
    "print(\"index = \" + str(i_max_pt75))\n",
    "print(\"corresponding barrier width = \" + str(BarrierWidth_75[i_max_pt75]) + \" m\")"
   ]
  },
  {
   "cell_type": "code",
   "execution_count": null,
   "id": "4e97d7aa",
   "metadata": {},
   "outputs": [],
   "source": [
    "fig = plt.figure(figsize=(12, 8), dpi=100)\n",
    "plt.subplot(1, 2, 1)\n",
    "plt.imshow(\n",
    "    cascade.barrier3d[0]._DomainTS[i_max_pt75] * 10,\n",
    "    origin=\"lower\",\n",
    "    cmap=\"terrain\",\n",
    "    vmin=-1.1,\n",
    "    vmax=4.0,\n",
    ")\n",
    "plt.xlabel(\"alongshore (dam)\")\n",
    "plt.ylabel(\"cross-shore (dam)\")\n",
    "\n",
    "plt.subplot(1, 2, 2)\n",
    "plt.imshow(\n",
    "    cascade.barrier3d[0]._DomainTS[i_min_pt75] * 10,\n",
    "    origin=\"lower\",\n",
    "    cmap=\"terrain\",\n",
    "    vmin=-1.1,\n",
    "    vmax=4.0,\n",
    ")\n",
    "plt.colorbar()"
   ]
  },
  {
   "cell_type": "markdown",
   "id": "fa142018",
   "metadata": {},
   "source": [
    "So the minimum interior elevation cannot support a roadway because the roadway borders \"water\" cells immediately upon construction (0 m NAVD88 in the code is the bay drowning threshold). I'm just going to have to explain this in the text. Instead, we chose another low elevation, at index 1353, which is significantly higher in elevation behind the dune line and a slightly wider barrier island (more realistic for initial roadway construction or dune management to maintain a roadway)."
   ]
  },
  {
   "cell_type": "code",
   "execution_count": null,
   "id": "f0736d21",
   "metadata": {},
   "outputs": [],
   "source": [
    "fig = plt.figure(figsize=(12, 8), dpi=100)\n",
    "\n",
    "# i_min_pt75 = 8282\n",
    "# i_min_pt75 = 1353\n",
    "# i_min_pt75 = 1826\n",
    "# i_min_pt75 = 4023\n",
    "i_min_pt75 = 4261\n",
    "# i_min_pt75 = 5783\n",
    "# i_min_pt75 = 6490\n",
    "# i_min_pt75 = 7812\n",
    "# i_min_pt75 = 3284\n",
    "# i_min_pt75 = 4763\n",
    "# i_min_pt75 = 9060\n",
    "# i_min_pt75 = 6481\n",
    "\n",
    "plt.subplot(1, 2, 1)\n",
    "plt.imshow(\n",
    "    cascade.barrier3d[0]._DomainTS[i_min_pt75] * 10,\n",
    "    origin=\"lower\",\n",
    "    cmap=\"terrain\",\n",
    "    vmin=-1.1,\n",
    "    vmax=5.0,\n",
    ")\n",
    "plt.xlabel(\"alongshore (dam)\")\n",
    "plt.ylabel(\"cross-shore (dam)\")\n",
    "plt.colorbar()"
   ]
  },
  {
   "cell_type": "code",
   "execution_count": null,
   "id": "e0287063",
   "metadata": {},
   "outputs": [],
   "source": [
    "print(\"final min index = \" + str(i_min_pt75))\n",
    "print(\"min barrier elevation = \" + str(BarrierHeight_75[i_min_pt75]) + \" m MHW\")\n",
    "print(\"corresponding barrier width = \" + str(BarrierWidth_75[i_min_pt75]) + \" m\")"
   ]
  },
  {
   "cell_type": "code",
   "execution_count": null,
   "id": "5ccf03cc",
   "metadata": {},
   "outputs": [],
   "source": [
    "pt75_low = cascade.barrier3d[0]._DomainTS[i_min_pt75]\n",
    "print(\n",
    "    \"0.75 low ave elevation for roadway = \"\n",
    "    + str(np.mean(pt75_low[2:4, :]) * 10)\n",
    "    + \"m MHW\"\n",
    ")"
   ]
  },
  {
   "cell_type": "code",
   "execution_count": null,
   "id": "398d490a",
   "metadata": {},
   "outputs": [],
   "source": [
    "# with open(\"b3d_pt75_829yrs_high-elevations.csv\", \"w\", newline=\"\") as file:\n",
    "#     writer = csv.writer(file)\n",
    "#     writer.writerows(cascade.barrier3d[ib3d].DomainTS[i_max_pt75])  # save in decameters\n",
    "# with open(\"b3d_pt75_829yrs_high-dunes.csv\", \"w\", newline=\"\") as file:\n",
    "#     writer = csv.writer(file)\n",
    "#     writer.writerow(\n",
    "#         cascade.barrier3d[ib3d].DuneDomain[i_max_pt75, :, 0]\n",
    "#     )  # save in decameters, just first row (just in case, not sure if I will ever use this)\n",
    "# with open(\"b3d_pt75_4261yrs_low-elevations.csv\", \"w\", newline=\"\") as file:\n",
    "#     writer = csv.writer(file)\n",
    "#     writer.writerows(cascade.barrier3d[ib3d].DomainTS[i_min_pt75])  # save in decameters\n",
    "# with open(\"b3d_pt75_4261yrs_low-dunes.csv\", \"w\", newline=\"\") as file:\n",
    "#     writer = csv.writer(file)\n",
    "#     writer.writerow(\n",
    "#         cascade.barrier3d[ib3d].DuneDomain[i_min_pt75, :, 0]\n",
    "#     )  # save in decameters, just first row (just in case, not sure if I will ever use this)\n",
    "# with open(\"b3d_pt75_1353yrs_low-elevations.csv\", \"w\", newline=\"\") as file:\n",
    "#     writer = csv.writer(file)\n",
    "#     writer.writerows(cascade.barrier3d[ib3d].DomainTS[i_min_pt75])  # save in decameters\n",
    "# with open(\"b3d_pt75_1353yrs_low-dunes.csv\", \"w\", newline=\"\") as file:\n",
    "#     writer = csv.writer(file)\n",
    "#     writer.writerow(\n",
    "#         cascade.barrier3d[ib3d].DuneDomain[i_min_pt75, :, 0]\n",
    "#     )  # save in decameters, just first row (just in case, not sure if I will ever use this)"
   ]
  },
  {
   "cell_type": "markdown",
   "id": "1da5cfe1",
   "metadata": {},
   "source": [
    "## Low dune growth rate (r_ave = 0.45)"
   ]
  },
  {
   "cell_type": "markdown",
   "id": "54442fc6",
   "metadata": {},
   "source": [
    "Now move on to the 0.45 average dune growth rate."
   ]
  },
  {
   "cell_type": "code",
   "execution_count": null,
   "id": "5a68ccdc",
   "metadata": {},
   "outputs": [],
   "source": [
    "ib3d = 0\n",
    "tmin = 0\n",
    "tmax = 10000\n",
    "\n",
    "name_prefix = \"4-B3D_noAST_Rave_pt45_SLR_pt004_10k-yrs_04\"\n",
    "output = np.load(datadir + name_prefix + \".npz\", allow_pickle=True)\n",
    "cascade = output[\"cascade\"][0]\n",
    "(\n",
    "    BarrierWidth_45,\n",
    "    DuneCrestMean_45,\n",
    "    BarrierHeight_45,\n",
    "    bw_rate_45,\n",
    "    bh_rate_45,\n",
    "    sc_rate_45,\n",
    "    DuneCrestMin_45,\n",
    "    DuneCrestMax_45,\n",
    "    shoreline_position,\n",
    "    shoreface_slope,\n",
    "    overwash,\n",
    ") = cplt.plot_nonlinear_stats_RoadwayManager(cascade.barrier3d, ib3d, tmax, tmax)"
   ]
  },
  {
   "cell_type": "code",
   "execution_count": null,
   "id": "65cd3cf7",
   "metadata": {},
   "outputs": [],
   "source": [
    "print(\"min barrier elev = \" + str(np.min(BarrierHeight_45)) + \" m MHW\")\n",
    "i_min_pt45 = np.argmin(BarrierHeight_45)\n",
    "print(\"index = \" + str(i_min_pt45))\n",
    "print(\"corresponding barrier width = \" + str(BarrierWidth_45[i_min_pt45]) + \" m\")\n",
    "print(\"-------------\")\n",
    "print(\"max barrier elev = \" + str(np.max(BarrierHeight_45)) + \" m MHW\")\n",
    "i_max_pt45 = np.argmax(BarrierHeight_45)\n",
    "print(\"index = \" + str(i_max_pt45))\n",
    "print(\"corresponding barrier width = \" + str(BarrierWidth_45[i_max_pt45]) + \" m\")\n",
    "# old, 0.9 390, 1.6 378"
   ]
  },
  {
   "cell_type": "markdown",
   "id": "6f8f3301",
   "metadata": {},
   "source": [
    "The minimum doesn't work here (model spin up), so need to manually select the minimum later in the time series. Note that the barrier widths are really similar between the high and low scenarios. Not as much variability in width and height for the 0.45 case. Also note that the barrier widths for the 0.45 case are similarish to the high elevation 0.75 scenario (311 m)."
   ]
  },
  {
   "cell_type": "code",
   "execution_count": null,
   "id": "8695bcbc",
   "metadata": {},
   "outputs": [],
   "source": [
    "# i_min_pt45 = 3885\n",
    "i_min_pt45 = 8757\n",
    "print(\"final min index = \" + str(i_min_pt45))\n",
    "print(\"min barrier elev = \" + str(BarrierHeight_45[i_min_pt45]) + \" m MHW\")\n",
    "print(\"corresponding barrier width = \" + str(BarrierWidth_45[i_min_pt45]) + \" m\")"
   ]
  },
  {
   "cell_type": "code",
   "execution_count": null,
   "id": "01db56ca",
   "metadata": {},
   "outputs": [],
   "source": [
    "fig = plt.figure(figsize=(12, 8), dpi=100)\n",
    "plt.subplot(1, 2, 1)\n",
    "plt.imshow(\n",
    "    cascade.barrier3d[0]._DomainTS[i_max_pt45] * 10,\n",
    "    origin=\"lower\",\n",
    "    cmap=\"terrain\",\n",
    "    vmin=-1.1,\n",
    "    vmax=5.0,\n",
    ")\n",
    "plt.xlabel(\"alongshore (dam)\")\n",
    "plt.ylabel(\"cross-shore (dam)\")\n",
    "\n",
    "plt.subplot(1, 2, 2)\n",
    "plt.imshow(\n",
    "    cascade.barrier3d[0]._DomainTS[i_min_pt45] * 10,\n",
    "    origin=\"lower\",\n",
    "    cmap=\"terrain\",\n",
    "    vmin=-1.1,\n",
    "    vmax=5.0,\n",
    ")\n",
    "plt.colorbar()"
   ]
  },
  {
   "cell_type": "code",
   "execution_count": null,
   "id": "5b6d0002",
   "metadata": {},
   "outputs": [],
   "source": [
    "# with open(\"b3d_pt45_802yrs_high-elevations.csv\", \"w\", newline=\"\") as file:\n",
    "#     writer = csv.writer(file)\n",
    "#     writer.writerows(cascade.barrier3d[ib3d].DomainTS[i_max_pt45])  # save in decameters\n",
    "# with open(\"b3d_pt45_802yrs_high-dunes.csv\", \"w\", newline=\"\") as file:\n",
    "#     writer = csv.writer(file)\n",
    "#     writer.writerow(\n",
    "#         cascade.barrier3d[ib3d].DuneDomain[i_max_pt45, :, 0]\n",
    "#     )  # save in decameters, just first row (just in case, not sure if I will ever use this)\n",
    "# with open(\"b3d_pt45_8757yrs_low-elevations.csv\", \"w\", newline=\"\") as file:\n",
    "#     writer = csv.writer(file)\n",
    "#     writer.writerows(cascade.barrier3d[ib3d].DomainTS[i_min_pt45])  # save in decameters\n",
    "# with open(\"b3d_pt45_8757yrs_low-dunes.csv\", \"w\", newline=\"\") as file:\n",
    "#     writer = csv.writer(file)\n",
    "#     writer.writerow(\n",
    "#         cascade.barrier3d[ib3d].DuneDomain[i_min_pt45, :, 0]\n",
    "#     )  # save in decameters, just first row (just in case, not sure if I will ever use this)"
   ]
  },
  {
   "cell_type": "markdown",
   "id": "a5833f72",
   "metadata": {},
   "source": [
    "## Setting the initial roadway elevation at grade\n",
    "Here, I calculate the average interior elevation (in m MHW) at the location of the roadway for my roadway management runs (20 meter setback). We establish the roadway at grade so it can be overwashed."
   ]
  },
  {
   "cell_type": "code",
   "execution_count": null,
   "id": "ed3fb9d0",
   "metadata": {},
   "outputs": [],
   "source": [
    "datadir = (\n",
    "    \"/Users/KatherineAnardeWheels/PycharmProjects/CASCADE/cascade/data/pathways_data/\"\n",
    ")\n",
    "\n",
    "# OLD VERSION, where I set the road too high\n",
    "# pt75_low = np.loadtxt(datadir + \"b3d_pt75_3284yrs_low-elevations.csv\", delimiter = \",\")\n",
    "# print(\"0.75 low ave elevation = \" + str(np.mean(pt75_low[2:4,:])*10) + \"m MHW\")\n",
    "\n",
    "pt75_low = np.loadtxt(datadir + \"b3d_pt75_4261yrs_low-elevations.csv\", delimiter=\",\")\n",
    "print(\"0.75 low ave elevation = \" + str(np.mean(pt75_low[2:4, :]) * 10) + \"m MHW\")\n",
    "\n",
    "# pt75_high = np.loadtxt(datadir + \"b3d_pt75_829yrs_high-elevations.csv\", delimiter = \",\")\n",
    "# print(\"0.75 high ave elevation = \" + str(np.mean(pt75_high[2:4,:])*10) + \"m MHW\")\n",
    "\n",
    "# pt45_low = np.loadtxt(datadir + \"b3d_pt45_8757yrs_low-elevations.csv\", delimiter = \",\")\n",
    "# print(\"0.45 low ave elevation = \" + str(np.mean(pt45_low[2:4,:])*10) + \"m MHW\")\n",
    "\n",
    "# pt45_high = np.loadtxt(datadir + \"b3d_pt45_802yrs_high-elevations.csv\", delimiter = \",\")\n",
    "# print(\"0.45 high ave elevation = \" + str(np.mean(pt45_high[2:4,:])*10) + \"m MHW\")"
   ]
  }
 ],
 "metadata": {
  "kernelspec": {
   "display_name": "Python 3 (ipykernel)",
   "language": "python",
   "name": "python3"
  },
  "language_info": {
   "codemirror_mode": {
    "name": "ipython",
    "version": 3
   },
   "file_extension": ".py",
   "mimetype": "text/x-python",
   "name": "python",
   "nbconvert_exporter": "python",
   "pygments_lexer": "ipython3",
   "version": "3.11.0"
  }
 },
 "nbformat": 4,
 "nbformat_minor": 5
}
