{
 "cells": [
  {
   "cell_type": "markdown",
   "id": "2426afde",
   "metadata": {},
   "source": [
    "# The BrieCoupler class: connecting Barrier3d models through alongshore sediment transport"
   ]
  },
  {
   "cell_type": "markdown",
   "id": "27bd6534",
   "metadata": {},
   "source": [
    "In this notebook we illustrate the functionality of the BeachDuneManager module within `CASCADE`. In the BeachDuneManager module, we incorporate beach nourishment and dune management strategies to maintain a coastal community at a fixed cross-shore position. Specifically, we: \n",
    "- Widen the beach via nourishment of the shoreface\n",
    "- Nourish dunes or rebuild following storms\n",
    "- Remove overwash to account for the filtering effect of development on overwash deposition (Rogers et al., 2015) and place it back on the shoreface\n",
    "- Remove overwash to account for bulldozing and place back on the adjacent dunes\n",
    "\n",
    "These management strategies are employed until the barrier reaches a minimum width and can no longer sustain a community, here defined as the combined width of a single roadway and building footprint (50 m). Thereafter, the community is abandoned and the barrier is allowed to evolve in accordance with the rules and dynamics in Barrier3D. \n",
    "\n",
    "For a complete description of the dynamics in the BeachDuneManager module, we direct the user to Anarde et al., (). Here, we seek only to hold your hand and walk you through use of the BeachDuneManager.  "
   ]
  },
  {
   "cell_type": "code",
   "execution_count": null,
   "id": "fbea2e2d",
   "metadata": {},
   "outputs": [],
   "source": [
    "import os\n",
    "import sys\n",
    "import time\n",
    "from pathlib import Path\n",
    "\n",
    "import matplotlib.pyplot as plt\n",
    "import numpy as np\n",
    "from tqdm import tqdm\n",
    "\n",
    "# sys.path.extend(['/Users/KatherineAnardeWheels/PycharmProjects/Barrier3D', '/Users/KatherineAnardeWheels/PycharmProjects/brie'])\n",
    "datadir = \"../cascade/data/\"\n",
    "Path(datadir)\n",
    "notebook_dir = \"../notebooks/\"\n",
    "\n",
    "from cascade import Cascade\n",
    "from cascade.tools import plotters as cascade_plt"
   ]
  },
  {
   "cell_type": "code",
   "execution_count": null,
   "id": "0a36097d",
   "metadata": {},
   "outputs": [],
   "source": [
    "alongshore_section_count = 6\n",
    "background_erosion = [-1] * alongshore_section_count\n",
    "nt = 100\n",
    "roadway_management_on = [True] * 3 + [False] * 3\n",
    "beach_nourishment_on = [False] * 3 + [True] * 3\n",
    "\n",
    "cascade = Cascade(\n",
    "    datadir,\n",
    "    name=\"AST_demonstration\",\n",
    "    wave_height=1,\n",
    "    wave_period=7,\n",
    "    wave_asymmetry=0.8,\n",
    "    wave_angle_high_fraction=0.2,\n",
    "    sea_level_rise_rate=0.004,\n",
    "    sea_level_rise_constant=True,\n",
    "    background_erosion=background_erosion,\n",
    "    alongshore_section_count=alongshore_section_count,\n",
    "    time_step_count=nt,\n",
    "    num_cores=1,\n",
    "    roadway_management_module=roadway_management_on,  # no roadway management\n",
    "    alongshore_transport_module=True,  # couple brie\n",
    "    beach_nourishment_module=beach_nourishment_on,\n",
    "    community_economics_module=False,  # no community dynamics\n",
    "    nourishment_interval=10,  # yrs\n",
    "    nourishment_volume=100,  # m^3/m\n",
    "    overwash_filter=90,  # % overwash removed\n",
    "    overwash_to_dune=10,\n",
    ")\n",
    "\n",
    "# Loop for 50 years at a 10 year interval, 100 m^3/m and then 50 years at a 20 year interval with 300 m^3/m\n",
    "nt = 50\n",
    "for _ in tqdm(range(nt - 1)):\n",
    "    cascade.update()\n",
    "    if cascade.b3d_break:\n",
    "        break\n",
    "\n",
    "# # during the CASCADE initialization, the nourishment interval and volume is specified individually for each\n",
    "# # barrier3d alongshore cell; so to update these values, we need to specify which barrier3d cell we want to modify\n",
    "# # (here, we only have one cell)\n",
    "# for\n",
    "# cascade.nourishment_interval[iB3D] = 20  # increase to 20 years\n",
    "# cascade.nourishment_volume[iB3D] = 300  # increase to 300 m^3/m\n",
    "\n",
    "# for _ in tqdm(range(nt)):\n",
    "#     cascade.update()\n",
    "#     if cascade.road_break or cascade.b3d_break:\n",
    "#         break"
   ]
  }
 ],
 "metadata": {
  "kernelspec": {
   "display_name": "Python 3",
   "language": "python",
   "name": "python3"
  },
  "language_info": {
   "codemirror_mode": {
    "name": "ipython",
    "version": 3
   },
   "file_extension": ".py",
   "mimetype": "text/x-python",
   "name": "python",
   "nbconvert_exporter": "python",
   "pygments_lexer": "ipython3",
   "version": "3.7.4"
  }
 },
 "nbformat": 4,
 "nbformat_minor": 5
}
