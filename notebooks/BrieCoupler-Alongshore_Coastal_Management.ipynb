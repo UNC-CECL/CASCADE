{
 "cells": [
  {
   "cell_type": "code",
   "execution_count": 1,
   "id": "0e6ff603",
   "metadata": {},
   "outputs": [],
   "source": [
    "import numpy as np\n",
    "import sys\n",
    "import time\n",
    "import matplotlib.pyplot as plt\n",
    "from pathlib import Path\n",
    "from tqdm import tqdm\n",
    "\n",
    "sys.path.extend(['/Users/KatherineAnardeWheels/PycharmProjects/Barrier3D', '/Users/KatherineAnardeWheels/PycharmProjects/brie', '/Users/KatherineAnardeWheels/PycharmProjects/CASCADE'])\n",
    "datadir = \"../B3D_Inputs/\"  # laptop \n",
    "Path(datadir)\n",
    "#datadir = \"/Users/KatherineAnardeWheels/PycharmProjects/CASCADE/B3D_Inputs/\"  # laptop\n",
    "notebook_dir = \"../notebooks/\"\n",
    "\n",
    "from cascade import Cascade\n",
    "from scripts import CASCADE_plotters as CASCADEplt"
   ]
  },
  {
   "cell_type": "code",
   "execution_count": 2,
   "id": "7c39fe44",
   "metadata": {},
   "outputs": [
    {
     "name": "stderr",
     "output_type": "stream",
     "text": [
      "100%|██████████| 49/49 [02:05<00:00,  2.56s/it]\n"
     ]
    }
   ],
   "source": [
    "alongshore_section_count = 6\n",
    "background_erosion = [-1] * alongshore_section_count\n",
    "nt = 100\n",
    "roadway_management_on = [True]*3 + [False]*3\n",
    "beach_nourishment_on = [False]*3 + [True]*3\n",
    "\n",
    "cascade = Cascade(\n",
    "    datadir,\n",
    "    name=\"AST_demonstration\",\n",
    "    wave_height=1,\n",
    "    wave_period=7,\n",
    "    wave_asymmetry=0.8,\n",
    "    wave_angle_high_fraction=0.2,\n",
    "    sea_level_rise_rate=0.004,\n",
    "    sea_level_rise_constant=True,\n",
    "    background_erosion=background_erosion,\n",
    "    alongshore_section_count=alongshore_section_count,\n",
    "    time_step_count=nt,\n",
    "    num_cores=1,\n",
    "    roadway_management_module=roadway_management_on,  # no roadway management\n",
    "    alongshore_transport_module=True,  # couple brie        \n",
    "    beach_nourishment_module=beach_nourishment_on,\n",
    "    community_dynamics_module=False,  # no community dynamics\n",
    "    nourishment_interval=10,  # yrs\n",
    "    nourishment_volume=100,  # m^3/m\n",
    "    overwash_filter=90,  # % overwash removed\n",
    "    overwash_to_dune=10, \n",
    ")\n",
    "\n",
    "# Loop for 50 years at a 10 year interval, 100 m^3/m and then 50 years at a 20 year interval with 300 m^3/m\n",
    "nt = 50\n",
    "for _ in tqdm(range(nt-1)):\n",
    "    cascade.update()\n",
    "    if cascade.b3d_break:\n",
    "        break\n",
    "        \n",
    "# # during the CASCADE initialization, the nourishment interval and volume is specified individually for each \n",
    "# # barrier3d alongshore cell; so to update these values, we need to specify which barrier3d cell we want to modify\n",
    "# # (here, we only have one cell)\n",
    "# for \n",
    "# cascade.nourishment_interval[iB3D] = 20  # increase to 20 years\n",
    "# cascade.nourishment_volume[iB3D] = 300  # increase to 300 m^3/m\n",
    "\n",
    "# for _ in tqdm(range(nt)):\n",
    "#     cascade.update()\n",
    "#     if cascade.road_break or cascade.b3d_break:\n",
    "#         break"
   ]
  },
  {
   "cell_type": "code",
   "execution_count": null,
   "id": "f104a300",
   "metadata": {},
   "outputs": [],
   "source": []
  },
  {
   "cell_type": "code",
   "execution_count": null,
   "id": "5eb7d10e",
   "metadata": {},
   "outputs": [],
   "source": []
  }
 ],
 "metadata": {
  "kernelspec": {
   "display_name": "Python 3 (ipykernel)",
   "language": "python",
   "name": "python3"
  },
  "language_info": {
   "codemirror_mode": {
    "name": "ipython",
    "version": 3
   },
   "file_extension": ".py",
   "mimetype": "text/x-python",
   "name": "python",
   "nbconvert_exporter": "python",
   "pygments_lexer": "ipython3",
   "version": "3.8.8"
  }
 },
 "nbformat": 4,
 "nbformat_minor": 5
}
