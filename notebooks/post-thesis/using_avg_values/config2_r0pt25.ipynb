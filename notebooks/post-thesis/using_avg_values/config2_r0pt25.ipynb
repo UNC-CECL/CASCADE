{
 "cells": [
  {
   "cell_type": "markdown",
   "id": "26e2f879",
   "metadata": {},
   "source": [
    "# Configuration 2, lowest dune growth rate"
   ]
  },
  {
   "cell_type": "code",
   "execution_count": 1,
   "id": "4e601290",
   "metadata": {},
   "outputs": [],
   "source": [
    "import time\n",
    "from cascade.cascade import Cascade"
   ]
  },
  {
   "cell_type": "code",
   "execution_count": 2,
   "id": "2aade992",
   "metadata": {},
   "outputs": [],
   "source": [
    "ki = 8.75E-3\n",
    "C = 0.0134\n",
    "beach_slope = 0.013\n",
    "save_dir = \"C:/Users/Lexi/Documents/Research/Outwasher Paper/run_output/avgs/low_dune_growth/\""
   ]
  },
  {
   "cell_type": "markdown",
   "id": "9ef0b20f",
   "metadata": {},
   "source": [
    "# B3D Only: Outwash module set to false"
   ]
  },
  {
   "cell_type": "code",
   "execution_count": 3,
   "id": "3973bdae",
   "metadata": {},
   "outputs": [],
   "source": [
    "datadir = \"C:/Users/Lexi/PycharmProjects/CASCADE/cascade/data/outwash_data/\"  # input datadir, add the default b3d files here\n",
    "cascade_b3d_only = Cascade(\n",
    "    datadir, \n",
    "    name=\"config2_b3d_startyr1_interval20yrs\",  \n",
    "    elevation_file=\"NCB-default-elevation-config2-damMHW.npy\",  # if using different elevation file, change this before \"-elevation.npy\"\n",
    "    dune_file=\"NCB-default-dunes-config2-dam.npy\",\n",
    "    parameter_file=\"outwash-parameters.yaml\",\n",
    "    storm_file=\"cascade-default-storms.npy\",  # same as \"StormSeries_1kyrs_VCR_Berm1pt9m_Slope0pt04_01.npy\"\n",
    "    num_cores=1,  # cascade can run in parallel, can never specify more cores than that\n",
    "    roadway_management_module=False,\n",
    "    alongshore_transport_module=False,\n",
    "    beach_nourishment_module=False,\n",
    "    community_economics_module=False,\n",
    "    outwash_module=False,\n",
    "    alongshore_section_count=1,\n",
    "    time_step_count=101,\n",
    "    wave_height=1, # ---------- for BRIE and Barrier3D --------------- #\n",
    "    wave_period=7,\n",
    "    wave_asymmetry=0.8,\n",
    "    wave_angle_high_fraction=0.2,\n",
    "    bay_depth=3.0,\n",
    "    s_background=0.001,\n",
    "    berm_elevation=1.46,\n",
    "    MHW=0.36,\n",
    "    beta=beach_slope,\n",
    "    sea_level_rise_rate=0.004,\n",
    "    sea_level_rise_constant=True,\n",
    "    background_erosion=0.0,\n",
    "    min_dune_growth_rate=0.05,\n",
    "    max_dune_growth_rate=0.45,\n",
    "    road_ele=1.7,  # ---------- roadway management --------------- #\n",
    "    road_width=30,\n",
    "    road_setback=30,\n",
    "    dune_design_elevation=3.7,\n",
    "    dune_minimum_elevation=2.2,\n",
    "    trigger_dune_knockdown=False,\n",
    "    group_roadway_abandonment=None,\n",
    "    nourishment_interval=None, # ---------- beach and dune (\"community\") management --------------- #\n",
    "    nourishment_volume=300.0,\n",
    "    overwash_filter=40,\n",
    "    overwash_to_dune=10,\n",
    "    number_of_communities=1, # ---------- coastal real estate markets (in development) --------------- #\n",
    "    sand_cost=10,\n",
    "    taxratio_oceanfront=1,\n",
    "    external_housing_market_value_oceanfront=6e5,\n",
    "    external_housing_market_value_nonoceanfront=4e5,\n",
    "    fixed_cost_beach_nourishment=2e6,\n",
    "    fixed_cost_dune_nourishment=2e5,\n",
    "    nourishment_cost_subsidy=10e6,\n",
    "    house_footprint_x=15,\n",
    "    house_footprint_y=20,\n",
    "    beach_full_cross_shore=70,\n",
    "    outwash_storms_file=\"outwash_storms_startyr_1_interval_20yrs.npy\",  # --------- outwasher (in development) ------------ #\n",
    "    percent_washout_to_shoreface=100,\n",
    "    outwash_beach_file = \"NCB-default-beach-config2-damMHW.npy\",\n",
    "    dune_flow_dynamics=\"full\",\n",
    "    outwasher_substep = 100,\n",
    "    ki_value=ki,\n",
    "    c=C,\n",
    ")"
   ]
  },
  {
   "cell_type": "code",
   "execution_count": 4,
   "id": "52fbcbf0",
   "metadata": {},
   "outputs": [
    {
     "name": "stdout",
     "output_type": "stream",
     "text": [
      " Time Step:  28"
     ]
    },
    {
     "name": "stderr",
     "output_type": "stream",
     "text": [
      "C:\\Users\\Lexi\\PycharmProjects\\Barrier3D\\barrier3d\\barrier3d.py:1533: RuntimeWarning: invalid value encountered in double_scalars\n",
      "  Qs1 = Qs0 * Q1 / (Q1 + Q2 + Q3)\n",
      "C:\\Users\\Lexi\\PycharmProjects\\Barrier3D\\barrier3d\\barrier3d.py:1534: RuntimeWarning: invalid value encountered in double_scalars\n",
      "  Qs2 = Qs0 * Q2 / (Q1 + Q2 + Q3)\n",
      "C:\\Users\\Lexi\\PycharmProjects\\Barrier3D\\barrier3d\\barrier3d.py:1535: RuntimeWarning: invalid value encountered in double_scalars\n",
      "  Qs3 = Qs0 * Q3 / (Q1 + Q2 + Q3)\n"
     ]
    },
    {
     "name": "stdout",
     "output_type": "stream",
     "text": [
      " Time Step:  100"
     ]
    }
   ],
   "source": [
    "t0 = time.time()\n",
    "\n",
    "for time_step in range(cascade_b3d_only._nt - 1):\n",
    "    # Print time step to screen (NOTE: time_index in each model is time_step+1)\n",
    "    print(\"\\r\", \"Time Step: \", time_step+1, end=\"\")\n",
    "    cascade_b3d_only.update()\n",
    "    if cascade_b3d_only.b3d_break:\n",
    "        break\n",
    "        \n",
    "        \n",
    "t1 = time.time()\n",
    "t_total_seconds = t1-t0\n",
    "t_total_minutes = t_total_seconds/60\n",
    "t_total_hours = t_total_seconds/3600"
   ]
  },
  {
   "cell_type": "code",
   "execution_count": 5,
   "id": "c1c85b65",
   "metadata": {},
   "outputs": [
    {
     "name": "stdout",
     "output_type": "stream",
     "text": [
      "29\n",
      "0.5\n"
     ]
    }
   ],
   "source": [
    "print(round(t_total_minutes))\n",
    "print(round(t_total_hours,1))"
   ]
  },
  {
   "cell_type": "code",
   "execution_count": 6,
   "id": "0798f5a4",
   "metadata": {},
   "outputs": [],
   "source": [
    "# save variables\n",
    "save_dir = \"C:/Users/Lexi/Documents/Research/Outwasher Paper/run_output/avgs/low_dune_growth/\"\n",
    "cascade_b3d_only.save(save_dir)"
   ]
  },
  {
   "cell_type": "markdown",
   "id": "aa660f84",
   "metadata": {},
   "source": [
    "# 100% to shoreface"
   ]
  },
  {
   "cell_type": "code",
   "execution_count": 7,
   "id": "24cce11a",
   "metadata": {
    "scrolled": true
   },
   "outputs": [],
   "source": [
    "datadir = \"C:/Users/Lexi/PycharmProjects/CASCADE/cascade/data/outwash_data/\"  # input datadir, add the default b3d files here\n",
    "cascade_outwash100 = Cascade(\n",
    "    datadir, \n",
    "    name=\"config2_outwash100_startyr1_interval20yrs\",  \n",
    "    elevation_file=\"NCB-default-elevation-config2-damMHW.npy\",  # if using different elevation file, change this before \"-elevation.npy\"\n",
    "    dune_file=\"NCB-default-dunes-config2-dam.npy\",\n",
    "    parameter_file=\"outwash-parameters.yaml\",\n",
    "    storm_file=\"cascade-default-storms.npy\",  # same as \"StormSeries_1kyrs_VCR_Berm1pt9m_Slope0pt04_01.npy\"\n",
    "    num_cores=1,  # cascade can run in parallel, can never specify more cores than that\n",
    "    roadway_management_module=False,\n",
    "    alongshore_transport_module=False,\n",
    "    beach_nourishment_module=False,\n",
    "    community_economics_module=False,\n",
    "    outwash_module=True,\n",
    "    alongshore_section_count=1,\n",
    "    time_step_count=101,\n",
    "    wave_height=1, # ---------- for BRIE and Barrier3D --------------- #\n",
    "    wave_period=7,\n",
    "    wave_asymmetry=0.8,\n",
    "    wave_angle_high_fraction=0.2,\n",
    "    bay_depth=3.0,\n",
    "    s_background=0.001,\n",
    "    berm_elevation=1.46,\n",
    "    MHW=0.36,\n",
    "    beta=beach_slope,\n",
    "    sea_level_rise_rate=0.004,\n",
    "    sea_level_rise_constant=True,\n",
    "    background_erosion=0.0,\n",
    "    min_dune_growth_rate=0.05,\n",
    "    max_dune_growth_rate=0.45,\n",
    "    road_ele=1.7,  # ---------- roadway management --------------- #\n",
    "    road_width=30,\n",
    "    road_setback=30,\n",
    "    dune_design_elevation=3.7,\n",
    "    dune_minimum_elevation=2.2,\n",
    "    trigger_dune_knockdown=False,\n",
    "    group_roadway_abandonment=None,\n",
    "    nourishment_interval=None, # ---------- beach and dune (\"community\") management --------------- #\n",
    "    nourishment_volume=300.0,\n",
    "    overwash_filter=40,\n",
    "    overwash_to_dune=10,\n",
    "    number_of_communities=1, # ---------- coastal real estate markets (in development) --------------- #\n",
    "    sand_cost=10,\n",
    "    taxratio_oceanfront=1,\n",
    "    external_housing_market_value_oceanfront=6e5,\n",
    "    external_housing_market_value_nonoceanfront=4e5,\n",
    "    fixed_cost_beach_nourishment=2e6,\n",
    "    fixed_cost_dune_nourishment=2e5,\n",
    "    nourishment_cost_subsidy=10e6,\n",
    "    house_footprint_x=15,\n",
    "    house_footprint_y=20,\n",
    "    beach_full_cross_shore=70,\n",
    "    outwash_storms_file=\"outwash_storms_startyr_1_interval_20yrs.npy\",  # --------- outwasher (in development) ------------ #\n",
    "    percent_washout_to_shoreface=100,\n",
    "    outwash_beach_file = \"NCB-default-beach-config2-damMHW.npy\",\n",
    "    dune_flow_dynamics=\"full\",\n",
    "    outwasher_substep = 100,\n",
    "    ki_value=ki,\n",
    "    c=C,\n",
    ")"
   ]
  },
  {
   "cell_type": "code",
   "execution_count": 8,
   "id": "82f8698b",
   "metadata": {},
   "outputs": [
    {
     "name": "stdout",
     "output_type": "stream",
     "text": [
      " Time Step:  1\n",
      " start outwash storm 1\n",
      " end outwash storm 1 \n",
      " Time Step:  21\n",
      " start outwash storm 21\n",
      " end outwash storm 21 \n",
      " Time Step:  41\n",
      " start outwash storm 41\n",
      " end outwash storm 41 \n",
      " Time Step:  61\n",
      " start outwash storm 61\n",
      " end outwash storm 61 \n",
      " Time Step:  81\n",
      " start outwash storm 81\n",
      " end outwash storm 81 \n",
      " Time Step:  100"
     ]
    }
   ],
   "source": [
    "t0 = time.time()\n",
    "\n",
    "for time_step in range(cascade_outwash100._nt - 1):\n",
    "    # Print time step to screen (NOTE: time_index in each model is time_step+1)\n",
    "    # Lexi added the +1 to print screen so the output should equal the time_index in each model\n",
    "    print(\"\\r\", \"Time Step: \", time_step+1, end=\"\")\n",
    "    cascade_outwash100.update()\n",
    "    if cascade_outwash100.b3d_break:\n",
    "        break\n",
    "        \n",
    "\n",
    "t1 = time.time()\n",
    "t_total_seconds = t1-t0\n",
    "t_total_minutes = t_total_seconds/60\n",
    "t_total_hours = t_total_seconds/3600"
   ]
  },
  {
   "cell_type": "code",
   "execution_count": 9,
   "id": "e49f52c3",
   "metadata": {},
   "outputs": [
    {
     "name": "stdout",
     "output_type": "stream",
     "text": [
      "142\n",
      "2.4\n"
     ]
    }
   ],
   "source": [
    "print(round(t_total_minutes))\n",
    "print(round(t_total_hours,1))"
   ]
  },
  {
   "cell_type": "code",
   "execution_count": 10,
   "id": "92696f0a",
   "metadata": {},
   "outputs": [],
   "source": [
    "# save variables\n",
    "cascade_outwash100.save(save_dir)"
   ]
  },
  {
   "cell_type": "markdown",
   "id": "10d28fe0",
   "metadata": {},
   "source": [
    "# 50% Outwash to shoreface"
   ]
  },
  {
   "cell_type": "code",
   "execution_count": 11,
   "id": "4d15cf8e",
   "metadata": {},
   "outputs": [],
   "source": [
    "datadir = \"C:/Users/Lexi/PycharmProjects/CASCADE/cascade/data/outwash_data/\"  # input datadir, add the default b3d files here\n",
    "cascade_outwash50 = Cascade(\n",
    "    datadir, \n",
    "    name=\"config2_outwash50_startyr1_interval20yrs\",  \n",
    "    elevation_file=\"NCB-default-elevation-config2-damMHW.npy\",  # if using different elevation file, change this before \"-elevation.npy\"\n",
    "    dune_file=\"NCB-default-dunes-config2-dam.npy\",\n",
    "    parameter_file=\"outwash-parameters.yaml\",\n",
    "    storm_file=\"cascade-default-storms.npy\",  # same as \"StormSeries_1kyrs_VCR_Berm1pt9m_Slope0pt04_01.npy\"\n",
    "    num_cores=1,  # cascade can run in parallel, can never specify more cores than that\n",
    "    roadway_management_module=False,\n",
    "    alongshore_transport_module=False,\n",
    "    beach_nourishment_module=False,\n",
    "    community_economics_module=False,\n",
    "    outwash_module=True,\n",
    "    alongshore_section_count=1,\n",
    "    time_step_count=101,\n",
    "    wave_height=1, # ---------- for BRIE and Barrier3D --------------- #\n",
    "    wave_period=7,\n",
    "    wave_asymmetry=0.8,\n",
    "    wave_angle_high_fraction=0.2,\n",
    "    bay_depth=3.0,\n",
    "    s_background=0.001,\n",
    "    berm_elevation=1.46,\n",
    "    MHW=0.36,\n",
    "    beta=beach_slope,\n",
    "    sea_level_rise_rate=0.004,\n",
    "    sea_level_rise_constant=True,\n",
    "    background_erosion=0.0,\n",
    "    min_dune_growth_rate=0.05,\n",
    "    max_dune_growth_rate=0.45,\n",
    "    road_ele=1.7,  # ---------- roadway management --------------- #\n",
    "    road_width=30,\n",
    "    road_setback=30,\n",
    "    dune_design_elevation=3.7,\n",
    "    dune_minimum_elevation=2.2,\n",
    "    trigger_dune_knockdown=False,\n",
    "    group_roadway_abandonment=None,\n",
    "    nourishment_interval=None, # ---------- beach and dune (\"community\") management --------------- #\n",
    "    nourishment_volume=300.0,\n",
    "    overwash_filter=40,\n",
    "    overwash_to_dune=10,\n",
    "    number_of_communities=1, # ---------- coastal real estate markets (in development) --------------- #\n",
    "    sand_cost=10,\n",
    "    taxratio_oceanfront=1,\n",
    "    external_housing_market_value_oceanfront=6e5,\n",
    "    external_housing_market_value_nonoceanfront=4e5,\n",
    "    fixed_cost_beach_nourishment=2e6,\n",
    "    fixed_cost_dune_nourishment=2e5,\n",
    "    nourishment_cost_subsidy=10e6,\n",
    "    house_footprint_x=15,\n",
    "    house_footprint_y=20,\n",
    "    beach_full_cross_shore=70,\n",
    "    outwash_storms_file=\"outwash_storms_startyr_1_interval_20yrs.npy\",  # --------- outwasher (in development) ------------ #\n",
    "    percent_washout_to_shoreface=50,\n",
    "    outwash_beach_file = \"NCB-default-beach-config2-damMHW.npy\",\n",
    "    dune_flow_dynamics=\"full\",\n",
    "    outwasher_substep = 100,\n",
    "    ki_value=ki,\n",
    "    c=C,\n",
    ")"
   ]
  },
  {
   "cell_type": "code",
   "execution_count": 12,
   "id": "f71ec23a",
   "metadata": {},
   "outputs": [
    {
     "name": "stdout",
     "output_type": "stream",
     "text": [
      " Time Step:  1\n",
      " start outwash storm 1\n",
      " end outwash storm 1 \n",
      " Time Step:  21\n",
      " start outwash storm 21\n",
      " end outwash storm 21 \n",
      " Time Step:  41\n",
      " start outwash storm 41\n",
      " end outwash storm 41 \n",
      " Time Step:  61\n",
      " start outwash storm 61\n",
      " end outwash storm 61 \n",
      " Time Step:  81\n",
      " start outwash storm 81\n",
      " end outwash storm 81 \n",
      " Time Step:  100"
     ]
    }
   ],
   "source": [
    "t0 = time.time()\n",
    "\n",
    "for time_step in range(cascade_outwash50._nt - 1):\n",
    "    # Print time step to screen (NOTE: time_index in each model is time_step+1)\n",
    "    print(\"\\r\", \"Time Step: \", time_step+1, end=\"\")\n",
    "    cascade_outwash50.update()\n",
    "    if cascade_outwash50.b3d_break:\n",
    "        break\n",
    "        \n",
    "t1 = time.time()\n",
    "t_total_seconds = t1-t0\n",
    "t_total_minutes = t_total_seconds/60\n",
    "t_total_hours = t_total_seconds/3600"
   ]
  },
  {
   "cell_type": "code",
   "execution_count": 13,
   "id": "acdcf471",
   "metadata": {},
   "outputs": [
    {
     "name": "stdout",
     "output_type": "stream",
     "text": [
      "245\n",
      "4.1\n"
     ]
    }
   ],
   "source": [
    "print(round(t_total_minutes))\n",
    "print(round(t_total_hours,1))"
   ]
  },
  {
   "cell_type": "code",
   "execution_count": 14,
   "id": "5b1e9cec",
   "metadata": {},
   "outputs": [],
   "source": [
    "# save variables\n",
    "cascade_outwash50.save(save_dir)"
   ]
  },
  {
   "cell_type": "markdown",
   "id": "e655bd90",
   "metadata": {},
   "source": [
    "# washout lost"
   ]
  },
  {
   "cell_type": "code",
   "execution_count": 15,
   "id": "59886d05",
   "metadata": {},
   "outputs": [],
   "source": [
    "datadir = \"C:/Users/Lexi/PycharmProjects/CASCADE/cascade/data/outwash_data/\"  # input datadir, add the default b3d files here\n",
    "cascade_outwash0 = Cascade(\n",
    "    datadir, \n",
    "    name=\"config2_outwash0_startyr1_interval20yrs\",  \n",
    "    elevation_file=\"NCB-default-elevation-config2-damMHW.npy\",  # if using different elevation file, change this before \"-elevation.npy\"\n",
    "    dune_file=\"NCB-default-dunes-config2-dam.npy\",\n",
    "    parameter_file=\"outwash-parameters.yaml\",\n",
    "    storm_file=\"cascade-default-storms.npy\",  # same as \"StormSeries_1kyrs_VCR_Berm1pt9m_Slope0pt04_01.npy\"\n",
    "    num_cores=1,  # cascade can run in parallel, can never specify more cores than that\n",
    "    roadway_management_module=False,\n",
    "    alongshore_transport_module=False,\n",
    "    beach_nourishment_module=False,\n",
    "    community_economics_module=False,\n",
    "    outwash_module=True,\n",
    "    alongshore_section_count=1,\n",
    "    time_step_count=101,\n",
    "    wave_height=1, # ---------- for BRIE and Barrier3D --------------- #\n",
    "    wave_period=7,\n",
    "    wave_asymmetry=0.8,\n",
    "    wave_angle_high_fraction=0.2,\n",
    "    bay_depth=3.0,\n",
    "    s_background=0.001,\n",
    "    berm_elevation=1.46,\n",
    "    MHW=0.36,\n",
    "    beta=beach_slope,\n",
    "    sea_level_rise_rate=0.004,\n",
    "    sea_level_rise_constant=True,\n",
    "    background_erosion=0.0,\n",
    "    min_dune_growth_rate=0.05,\n",
    "    max_dune_growth_rate=0.45,\n",
    "    road_ele=1.7,  # ---------- roadway management --------------- #\n",
    "    road_width=30,\n",
    "    road_setback=30,\n",
    "    dune_design_elevation=3.7,\n",
    "    dune_minimum_elevation=2.2,\n",
    "    trigger_dune_knockdown=False,\n",
    "    group_roadway_abandonment=None,\n",
    "    nourishment_interval=None, # ---------- beach and dune (\"community\") management --------------- #\n",
    "    nourishment_volume=300.0,\n",
    "    overwash_filter=40,\n",
    "    overwash_to_dune=10,\n",
    "    number_of_communities=1, # ---------- coastal real estate markets (in development) --------------- #\n",
    "    sand_cost=10,\n",
    "    taxratio_oceanfront=1,\n",
    "    external_housing_market_value_oceanfront=6e5,\n",
    "    external_housing_market_value_nonoceanfront=4e5,\n",
    "    fixed_cost_beach_nourishment=2e6,\n",
    "    fixed_cost_dune_nourishment=2e5,\n",
    "    nourishment_cost_subsidy=10e6,\n",
    "    house_footprint_x=15,\n",
    "    house_footprint_y=20,\n",
    "    beach_full_cross_shore=70,\n",
    "    outwash_storms_file=\"outwash_storms_startyr_1_interval_20yrs.npy\",  # --------- outwasher (in development) ------------ #\n",
    "    percent_washout_to_shoreface=0,\n",
    "    outwash_beach_file = \"NCB-default-beach-config2-damMHW.npy\",\n",
    "    dune_flow_dynamics=\"full\",\n",
    "    outwasher_substep = 100,\n",
    "    ki_value=ki,\n",
    "    c=C,\n",
    ")"
   ]
  },
  {
   "cell_type": "code",
   "execution_count": 16,
   "id": "5f12a0d1",
   "metadata": {
    "scrolled": false
   },
   "outputs": [
    {
     "name": "stdout",
     "output_type": "stream",
     "text": [
      " Time Step:  1\n",
      " start outwash storm 1\n",
      " end outwash storm 1 \n",
      " Time Step:  21\n",
      " start outwash storm 21\n",
      " end outwash storm 21 \n",
      " Time Step:  41\n",
      " start outwash storm 41\n",
      " end outwash storm 41 \n",
      " Time Step:  61\n",
      " start outwash storm 61\n",
      " end outwash storm 61 \n",
      " Time Step:  81\n",
      " start outwash storm 81\n",
      " end outwash storm 81 \n",
      " Time Step:  100"
     ]
    }
   ],
   "source": [
    "t0 = time.time()\n",
    "\n",
    "for time_step in range(cascade_outwash0._nt - 1):\n",
    "    # Print time step to screen (NOTE: time_index in each model is time_step+1)\n",
    "    print(\"\\r\", \"Time Step: \", time_step+1, end=\"\")\n",
    "    cascade_outwash0.update()\n",
    "    if cascade_outwash0.b3d_break:\n",
    "        break\n",
    "        \n",
    "t1 = time.time()\n",
    "t_total_seconds = t1-t0\n",
    "t_total_minutes = t_total_seconds/60\n",
    "t_total_hours = t_total_seconds/3600"
   ]
  },
  {
   "cell_type": "code",
   "execution_count": 17,
   "id": "6e6d6cf8",
   "metadata": {},
   "outputs": [
    {
     "name": "stdout",
     "output_type": "stream",
     "text": [
      "287\n",
      "4.8\n"
     ]
    }
   ],
   "source": [
    "print(round(t_total_minutes))\n",
    "print(round(t_total_hours,1))"
   ]
  },
  {
   "cell_type": "code",
   "execution_count": 18,
   "id": "0e3bee49",
   "metadata": {},
   "outputs": [],
   "source": [
    "# save variables\n",
    "cascade_outwash0.save(save_dir)"
   ]
  }
 ],
 "metadata": {
  "kernelspec": {
   "display_name": "Python 3 (ipykernel)",
   "language": "python",
   "name": "python3"
  },
  "language_info": {
   "codemirror_mode": {
    "name": "ipython",
    "version": 3
   },
   "file_extension": ".py",
   "mimetype": "text/x-python",
   "name": "python",
   "nbconvert_exporter": "python",
   "pygments_lexer": "ipython3",
   "version": "3.8.8"
  }
 },
 "nbformat": 4,
 "nbformat_minor": 5
}
