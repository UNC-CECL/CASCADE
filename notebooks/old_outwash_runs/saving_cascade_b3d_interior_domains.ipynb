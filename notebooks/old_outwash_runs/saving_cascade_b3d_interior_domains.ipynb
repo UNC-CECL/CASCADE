{
 "cells": [
  {
   "cell_type": "code",
   "execution_count": 1,
   "id": "cf6d241a",
   "metadata": {},
   "outputs": [],
   "source": [
    "from matplotlib import pyplot as plt\n",
    "import numpy as np\n",
    "import os\n",
    "import copy\n",
    "\n",
    "from cascade.cascade import Cascade\n",
    "datadir = \"C:/Users/Lexi/PycharmProjects/CASCADE/cascade/data/outwash_data/\"  # input datadir, add the default b3d files here\n",
    "cascade = Cascade(\n",
    "    datadir, \n",
    "    name=\"default\",  \n",
    "    elevation_file=\"barrier3d-default-elevation.npy\",  # if using different elevation file, change this before \"-elevation.npy\"\n",
    "    dune_file=\"barrier3d-default-dunes.npy\",\n",
    "    parameter_file=\"outwash-parameters.yaml\",\n",
    "    storm_file=\"barrier3d-default-storms.npy\",  # same as \"StormSeries_1kyrs_VCR_Berm1pt9m_Slope0pt04_01.npy\"\n",
    "    num_cores=1,  # cascade can run in parallel, can never specify more cores than that\n",
    "    roadway_management_module=False,\n",
    "    alongshore_transport_module=False,\n",
    "    beach_nourishment_module=False,\n",
    "    community_economics_module=False,\n",
    "    outwash_module=False,\n",
    "    alongshore_section_count=1,\n",
    "    time_step_count=65,\n",
    "    wave_height=1, # ---------- for BRIE and Barrier3D --------------- #\n",
    "    wave_period=7,\n",
    "    wave_asymmetry=0.8,\n",
    "    wave_angle_high_fraction=0.2,\n",
    "    bay_depth=3.0,\n",
    "    s_background=0.001,\n",
    "    berm_elevation=1.9,\n",
    "    MHW=0.46,\n",
    "    beta=0.04,\n",
    "    sea_level_rise_rate=0.004,\n",
    "    sea_level_rise_constant=True,\n",
    "    background_erosion=0.0,\n",
    "    min_dune_growth_rate=0.25,\n",
    "    max_dune_growth_rate=0.65,\n",
    "    road_ele=1.7,  # ---------- roadway management --------------- #\n",
    "    road_width=30,\n",
    "    road_setback=30,\n",
    "    dune_design_elevation=3.7,\n",
    "    dune_minimum_elevation=2.2,\n",
    "    trigger_dune_knockdown=False,\n",
    "    group_roadway_abandonment=None,\n",
    "    nourishment_interval=None, # ---------- beach and dune (\"community\") management --------------- #\n",
    "    nourishment_volume=300.0,\n",
    "    overwash_filter=40,\n",
    "    overwash_to_dune=10,\n",
    "    number_of_communities=1, # ---------- coastal real estate markets (in development) --------------- #\n",
    "    sand_cost=10,\n",
    "    taxratio_oceanfront=1,\n",
    "    external_housing_market_value_oceanfront=6e5,\n",
    "    external_housing_market_value_nonoceanfront=4e5,\n",
    "    fixed_cost_beach_nourishment=2e6,\n",
    "    fixed_cost_dune_nourishment=2e5,\n",
    "    nourishment_cost_subsidy=10e6,\n",
    "    house_footprint_x=15,\n",
    "    house_footprint_y=20,\n",
    "    beach_full_cross_shore=70,\n",
    "#     outwash_storm_years=\"outwash_years10.npy\",  # --------- outwasher (in development) ------------ #\n",
    "    outwash_storm_years=\"outwash_years.npy\",\n",
    "    outwash_hydrograph=\"outwash_baylevels10.npy\",\n",
    "    washout_to_shoreface=True,\n",
    ")"
   ]
  },
  {
   "cell_type": "code",
   "execution_count": 5,
   "id": "2c0cc9d0",
   "metadata": {},
   "outputs": [
    {
     "name": "stdout",
     "output_type": "stream",
     "text": [
      " Time Step:  7"
     ]
    },
    {
     "name": "stderr",
     "output_type": "stream",
     "text": [
      "c:\\users\\lexi\\pycharmprojects\\barrier3d\\barrier3d\\barrier3d.py:1501: RuntimeWarning: invalid value encountered in double_scalars\n",
      "  Qs1 = Qs0 * Q1 / (Q1 + Q2 + Q3)\n",
      "c:\\users\\lexi\\pycharmprojects\\barrier3d\\barrier3d\\barrier3d.py:1502: RuntimeWarning: invalid value encountered in double_scalars\n",
      "  Qs2 = Qs0 * Q2 / (Q1 + Q2 + Q3)\n",
      "c:\\users\\lexi\\pycharmprojects\\barrier3d\\barrier3d\\barrier3d.py:1503: RuntimeWarning: invalid value encountered in double_scalars\n",
      "  Qs3 = Qs0 * Q3 / (Q1 + Q2 + Q3)\n"
     ]
    },
    {
     "name": "stdout",
     "output_type": "stream",
     "text": [
      " Time Step:  61"
     ]
    },
    {
     "ename": "IndexError",
     "evalue": "list index out of range",
     "output_type": "error",
     "traceback": [
      "\u001b[1;31m---------------------------------------------------------------------------\u001b[0m",
      "\u001b[1;31mIndexError\u001b[0m                                Traceback (most recent call last)",
      "Input \u001b[1;32mIn [5]\u001b[0m, in \u001b[0;36m<module>\u001b[1;34m\u001b[0m\n\u001b[0;32m      1\u001b[0m \u001b[38;5;28;01mfor\u001b[39;00m time_step \u001b[38;5;129;01min\u001b[39;00m \u001b[38;5;28mrange\u001b[39m(cascade\u001b[38;5;241m.\u001b[39m_nt \u001b[38;5;241m-\u001b[39m \u001b[38;5;241m1\u001b[39m):\n\u001b[0;32m      2\u001b[0m     \u001b[38;5;66;03m# Print time step to screen (NOTE: time_index in each model is time_step+1)\u001b[39;00m\n\u001b[0;32m      3\u001b[0m     \u001b[38;5;28mprint\u001b[39m(\u001b[38;5;124m\"\u001b[39m\u001b[38;5;130;01m\\r\u001b[39;00m\u001b[38;5;124m\"\u001b[39m, \u001b[38;5;124m\"\u001b[39m\u001b[38;5;124mTime Step: \u001b[39m\u001b[38;5;124m\"\u001b[39m, time_step, end\u001b[38;5;241m=\u001b[39m\u001b[38;5;124m\"\u001b[39m\u001b[38;5;124m\"\u001b[39m)\n\u001b[1;32m----> 4\u001b[0m     \u001b[43mcascade\u001b[49m\u001b[38;5;241;43m.\u001b[39;49m\u001b[43mupdate\u001b[49m\u001b[43m(\u001b[49m\u001b[43m)\u001b[49m\n\u001b[0;32m      5\u001b[0m     \u001b[38;5;28;01mif\u001b[39;00m cascade\u001b[38;5;241m.\u001b[39mb3d_break:\n\u001b[0;32m      6\u001b[0m         \u001b[38;5;28;01mbreak\u001b[39;00m\n",
      "File \u001b[1;32mc:\\users\\lexi\\pycharmprojects\\cascade\\cascade\\cascade.py:567\u001b[0m, in \u001b[0;36mCascade.update\u001b[1;34m(self)\u001b[0m\n\u001b[0;32m    562\u001b[0m     \u001b[38;5;28;01mreturn\u001b[39;00m\n\u001b[0;32m    564\u001b[0m \u001b[38;5;66;03m# advance B3D by one time step (B3D initializes at time_index = 1 and then updates the time_index after\u001b[39;00m\n\u001b[0;32m    565\u001b[0m \u001b[38;5;66;03m# update_dune_domain). Set n_jobs=1 for no parallel processing (debugging) and -2 for all but 1 CPU;\u001b[39;00m\n\u001b[0;32m    566\u001b[0m \u001b[38;5;66;03m# note that joblib uses a threshold on the size of arrays passed to the workers\u001b[39;00m\n\u001b[1;32m--> 567\u001b[0m batch_output \u001b[38;5;241m=\u001b[39m \u001b[43mParallel\u001b[49m\u001b[43m(\u001b[49m\u001b[43mn_jobs\u001b[49m\u001b[38;5;241;43m=\u001b[39;49m\u001b[38;5;28;43mself\u001b[39;49m\u001b[38;5;241;43m.\u001b[39;49m\u001b[43m_num_cores\u001b[49m\u001b[43m,\u001b[49m\u001b[43m \u001b[49m\u001b[43mmax_nbytes\u001b[49m\u001b[38;5;241;43m=\u001b[39;49m\u001b[38;5;124;43m\"\u001b[39;49m\u001b[38;5;124;43m10M\u001b[39;49m\u001b[38;5;124;43m\"\u001b[39;49m\u001b[43m)\u001b[49m\u001b[43m(\u001b[49m\n\u001b[0;32m    568\u001b[0m \u001b[43m    \u001b[49m\u001b[43mdelayed\u001b[49m\u001b[43m(\u001b[49m\u001b[43mbatchB3D\u001b[49m\u001b[43m)\u001b[49m\u001b[43m(\u001b[49m\u001b[38;5;28;43mself\u001b[39;49m\u001b[38;5;241;43m.\u001b[39;49m\u001b[43m_barrier3d\u001b[49m\u001b[43m[\u001b[49m\u001b[43miB3D\u001b[49m\u001b[43m]\u001b[49m\u001b[43m)\u001b[49m\u001b[43m \u001b[49m\u001b[38;5;28;43;01mfor\u001b[39;49;00m\u001b[43m \u001b[49m\u001b[43miB3D\u001b[49m\u001b[43m \u001b[49m\u001b[38;5;129;43;01min\u001b[39;49;00m\u001b[43m \u001b[49m\u001b[38;5;28;43mrange\u001b[39;49m\u001b[43m(\u001b[49m\u001b[38;5;28;43mself\u001b[39;49m\u001b[38;5;241;43m.\u001b[39;49m\u001b[43m_ny\u001b[49m\u001b[43m)\u001b[49m\n\u001b[0;32m    569\u001b[0m \u001b[43m\u001b[49m\u001b[43m)\u001b[49m\n\u001b[0;32m    571\u001b[0m \u001b[38;5;66;03m# reshape output from parallel processing and convert from tuple to list\u001b[39;00m\n\u001b[0;32m    572\u001b[0m x_t_dt, x_s_dt, h_b_dt, b3d \u001b[38;5;241m=\u001b[39m \u001b[38;5;28mzip\u001b[39m(\u001b[38;5;241m*\u001b[39mbatch_output)\n",
      "File \u001b[1;32mc:\\users\\lexi\\pycharmprojects\\cascade\\venv\\lib\\site-packages\\joblib\\parallel.py:1048\u001b[0m, in \u001b[0;36mParallel.__call__\u001b[1;34m(self, iterable)\u001b[0m\n\u001b[0;32m   1039\u001b[0m \u001b[38;5;28;01mtry\u001b[39;00m:\n\u001b[0;32m   1040\u001b[0m     \u001b[38;5;66;03m# Only set self._iterating to True if at least a batch\u001b[39;00m\n\u001b[0;32m   1041\u001b[0m     \u001b[38;5;66;03m# was dispatched. In particular this covers the edge\u001b[39;00m\n\u001b[1;32m   (...)\u001b[0m\n\u001b[0;32m   1045\u001b[0m     \u001b[38;5;66;03m# was very quick and its callback already dispatched all the\u001b[39;00m\n\u001b[0;32m   1046\u001b[0m     \u001b[38;5;66;03m# remaining jobs.\u001b[39;00m\n\u001b[0;32m   1047\u001b[0m     \u001b[38;5;28mself\u001b[39m\u001b[38;5;241m.\u001b[39m_iterating \u001b[38;5;241m=\u001b[39m \u001b[38;5;28;01mFalse\u001b[39;00m\n\u001b[1;32m-> 1048\u001b[0m     \u001b[38;5;28;01mif\u001b[39;00m \u001b[38;5;28;43mself\u001b[39;49m\u001b[38;5;241;43m.\u001b[39;49m\u001b[43mdispatch_one_batch\u001b[49m\u001b[43m(\u001b[49m\u001b[43miterator\u001b[49m\u001b[43m)\u001b[49m:\n\u001b[0;32m   1049\u001b[0m         \u001b[38;5;28mself\u001b[39m\u001b[38;5;241m.\u001b[39m_iterating \u001b[38;5;241m=\u001b[39m \u001b[38;5;28mself\u001b[39m\u001b[38;5;241m.\u001b[39m_original_iterator \u001b[38;5;129;01mis\u001b[39;00m \u001b[38;5;129;01mnot\u001b[39;00m \u001b[38;5;28;01mNone\u001b[39;00m\n\u001b[0;32m   1051\u001b[0m     \u001b[38;5;28;01mwhile\u001b[39;00m \u001b[38;5;28mself\u001b[39m\u001b[38;5;241m.\u001b[39mdispatch_one_batch(iterator):\n",
      "File \u001b[1;32mc:\\users\\lexi\\pycharmprojects\\cascade\\venv\\lib\\site-packages\\joblib\\parallel.py:866\u001b[0m, in \u001b[0;36mParallel.dispatch_one_batch\u001b[1;34m(self, iterator)\u001b[0m\n\u001b[0;32m    864\u001b[0m     \u001b[38;5;28;01mreturn\u001b[39;00m \u001b[38;5;28;01mFalse\u001b[39;00m\n\u001b[0;32m    865\u001b[0m \u001b[38;5;28;01melse\u001b[39;00m:\n\u001b[1;32m--> 866\u001b[0m     \u001b[38;5;28;43mself\u001b[39;49m\u001b[38;5;241;43m.\u001b[39;49m\u001b[43m_dispatch\u001b[49m\u001b[43m(\u001b[49m\u001b[43mtasks\u001b[49m\u001b[43m)\u001b[49m\n\u001b[0;32m    867\u001b[0m     \u001b[38;5;28;01mreturn\u001b[39;00m \u001b[38;5;28;01mTrue\u001b[39;00m\n",
      "File \u001b[1;32mc:\\users\\lexi\\pycharmprojects\\cascade\\venv\\lib\\site-packages\\joblib\\parallel.py:784\u001b[0m, in \u001b[0;36mParallel._dispatch\u001b[1;34m(self, batch)\u001b[0m\n\u001b[0;32m    782\u001b[0m \u001b[38;5;28;01mwith\u001b[39;00m \u001b[38;5;28mself\u001b[39m\u001b[38;5;241m.\u001b[39m_lock:\n\u001b[0;32m    783\u001b[0m     job_idx \u001b[38;5;241m=\u001b[39m \u001b[38;5;28mlen\u001b[39m(\u001b[38;5;28mself\u001b[39m\u001b[38;5;241m.\u001b[39m_jobs)\n\u001b[1;32m--> 784\u001b[0m     job \u001b[38;5;241m=\u001b[39m \u001b[38;5;28;43mself\u001b[39;49m\u001b[38;5;241;43m.\u001b[39;49m\u001b[43m_backend\u001b[49m\u001b[38;5;241;43m.\u001b[39;49m\u001b[43mapply_async\u001b[49m\u001b[43m(\u001b[49m\u001b[43mbatch\u001b[49m\u001b[43m,\u001b[49m\u001b[43m \u001b[49m\u001b[43mcallback\u001b[49m\u001b[38;5;241;43m=\u001b[39;49m\u001b[43mcb\u001b[49m\u001b[43m)\u001b[49m\n\u001b[0;32m    785\u001b[0m     \u001b[38;5;66;03m# A job can complete so quickly than its callback is\u001b[39;00m\n\u001b[0;32m    786\u001b[0m     \u001b[38;5;66;03m# called before we get here, causing self._jobs to\u001b[39;00m\n\u001b[0;32m    787\u001b[0m     \u001b[38;5;66;03m# grow. To ensure correct results ordering, .insert is\u001b[39;00m\n\u001b[0;32m    788\u001b[0m     \u001b[38;5;66;03m# used (rather than .append) in the following line\u001b[39;00m\n\u001b[0;32m    789\u001b[0m     \u001b[38;5;28mself\u001b[39m\u001b[38;5;241m.\u001b[39m_jobs\u001b[38;5;241m.\u001b[39minsert(job_idx, job)\n",
      "File \u001b[1;32mc:\\users\\lexi\\pycharmprojects\\cascade\\venv\\lib\\site-packages\\joblib\\_parallel_backends.py:208\u001b[0m, in \u001b[0;36mSequentialBackend.apply_async\u001b[1;34m(self, func, callback)\u001b[0m\n\u001b[0;32m    206\u001b[0m \u001b[38;5;28;01mdef\u001b[39;00m \u001b[38;5;21mapply_async\u001b[39m(\u001b[38;5;28mself\u001b[39m, func, callback\u001b[38;5;241m=\u001b[39m\u001b[38;5;28;01mNone\u001b[39;00m):\n\u001b[0;32m    207\u001b[0m     \u001b[38;5;124;03m\"\"\"Schedule a func to be run\"\"\"\u001b[39;00m\n\u001b[1;32m--> 208\u001b[0m     result \u001b[38;5;241m=\u001b[39m \u001b[43mImmediateResult\u001b[49m\u001b[43m(\u001b[49m\u001b[43mfunc\u001b[49m\u001b[43m)\u001b[49m\n\u001b[0;32m    209\u001b[0m     \u001b[38;5;28;01mif\u001b[39;00m callback:\n\u001b[0;32m    210\u001b[0m         callback(result)\n",
      "File \u001b[1;32mc:\\users\\lexi\\pycharmprojects\\cascade\\venv\\lib\\site-packages\\joblib\\_parallel_backends.py:572\u001b[0m, in \u001b[0;36mImmediateResult.__init__\u001b[1;34m(self, batch)\u001b[0m\n\u001b[0;32m    569\u001b[0m \u001b[38;5;28;01mdef\u001b[39;00m \u001b[38;5;21m__init__\u001b[39m(\u001b[38;5;28mself\u001b[39m, batch):\n\u001b[0;32m    570\u001b[0m     \u001b[38;5;66;03m# Don't delay the application, to avoid keeping the input\u001b[39;00m\n\u001b[0;32m    571\u001b[0m     \u001b[38;5;66;03m# arguments in memory\u001b[39;00m\n\u001b[1;32m--> 572\u001b[0m     \u001b[38;5;28mself\u001b[39m\u001b[38;5;241m.\u001b[39mresults \u001b[38;5;241m=\u001b[39m \u001b[43mbatch\u001b[49m\u001b[43m(\u001b[49m\u001b[43m)\u001b[49m\n",
      "File \u001b[1;32mc:\\users\\lexi\\pycharmprojects\\cascade\\venv\\lib\\site-packages\\joblib\\parallel.py:262\u001b[0m, in \u001b[0;36mBatchedCalls.__call__\u001b[1;34m(self)\u001b[0m\n\u001b[0;32m    258\u001b[0m \u001b[38;5;28;01mdef\u001b[39;00m \u001b[38;5;21m__call__\u001b[39m(\u001b[38;5;28mself\u001b[39m):\n\u001b[0;32m    259\u001b[0m     \u001b[38;5;66;03m# Set the default nested backend to self._backend but do not set the\u001b[39;00m\n\u001b[0;32m    260\u001b[0m     \u001b[38;5;66;03m# change the default number of processes to -1\u001b[39;00m\n\u001b[0;32m    261\u001b[0m     \u001b[38;5;28;01mwith\u001b[39;00m parallel_backend(\u001b[38;5;28mself\u001b[39m\u001b[38;5;241m.\u001b[39m_backend, n_jobs\u001b[38;5;241m=\u001b[39m\u001b[38;5;28mself\u001b[39m\u001b[38;5;241m.\u001b[39m_n_jobs):\n\u001b[1;32m--> 262\u001b[0m         \u001b[38;5;28;01mreturn\u001b[39;00m [func(\u001b[38;5;241m*\u001b[39margs, \u001b[38;5;241m*\u001b[39m\u001b[38;5;241m*\u001b[39mkwargs)\n\u001b[0;32m    263\u001b[0m                 \u001b[38;5;28;01mfor\u001b[39;00m func, args, kwargs \u001b[38;5;129;01min\u001b[39;00m \u001b[38;5;28mself\u001b[39m\u001b[38;5;241m.\u001b[39mitems]\n",
      "File \u001b[1;32mc:\\users\\lexi\\pycharmprojects\\cascade\\venv\\lib\\site-packages\\joblib\\parallel.py:262\u001b[0m, in \u001b[0;36m<listcomp>\u001b[1;34m(.0)\u001b[0m\n\u001b[0;32m    258\u001b[0m \u001b[38;5;28;01mdef\u001b[39;00m \u001b[38;5;21m__call__\u001b[39m(\u001b[38;5;28mself\u001b[39m):\n\u001b[0;32m    259\u001b[0m     \u001b[38;5;66;03m# Set the default nested backend to self._backend but do not set the\u001b[39;00m\n\u001b[0;32m    260\u001b[0m     \u001b[38;5;66;03m# change the default number of processes to -1\u001b[39;00m\n\u001b[0;32m    261\u001b[0m     \u001b[38;5;28;01mwith\u001b[39;00m parallel_backend(\u001b[38;5;28mself\u001b[39m\u001b[38;5;241m.\u001b[39m_backend, n_jobs\u001b[38;5;241m=\u001b[39m\u001b[38;5;28mself\u001b[39m\u001b[38;5;241m.\u001b[39m_n_jobs):\n\u001b[1;32m--> 262\u001b[0m         \u001b[38;5;28;01mreturn\u001b[39;00m [\u001b[43mfunc\u001b[49m\u001b[43m(\u001b[49m\u001b[38;5;241;43m*\u001b[39;49m\u001b[43margs\u001b[49m\u001b[43m,\u001b[49m\u001b[43m \u001b[49m\u001b[38;5;241;43m*\u001b[39;49m\u001b[38;5;241;43m*\u001b[39;49m\u001b[43mkwargs\u001b[49m\u001b[43m)\u001b[49m\n\u001b[0;32m    263\u001b[0m                 \u001b[38;5;28;01mfor\u001b[39;00m func, args, kwargs \u001b[38;5;129;01min\u001b[39;00m \u001b[38;5;28mself\u001b[39m\u001b[38;5;241m.\u001b[39mitems]\n",
      "File \u001b[1;32mc:\\users\\lexi\\pycharmprojects\\cascade\\cascade\\brie_coupler.py:49\u001b[0m, in \u001b[0;36mbatchB3D\u001b[1;34m(subB3D)\u001b[0m\n\u001b[0;32m     44\u001b[0m \u001b[38;5;28;01mdef\u001b[39;00m \u001b[38;5;21mbatchB3D\u001b[39m(subB3D):\n\u001b[0;32m     46\u001b[0m     \u001b[38;5;124;03m\"\"\"Parallelize the update function for each B3D domain so the (computationally expensive) flow routing algorithm\u001b[39;00m\n\u001b[0;32m     47\u001b[0m \u001b[38;5;124;03m     operates on separate cores -- i.e., overwash doesn't need to be simulated sequentially for each domain\"\"\"\u001b[39;00m\n\u001b[1;32m---> 49\u001b[0m     \u001b[43msubB3D\u001b[49m\u001b[38;5;241;43m.\u001b[39;49m\u001b[43mupdate\u001b[49m\u001b[43m(\u001b[49m\u001b[43m)\u001b[49m\n\u001b[0;32m     51\u001b[0m     \u001b[38;5;66;03m# calculate the diff in shoreface toe, shoreline, and height of barrier (dam)\u001b[39;00m\n\u001b[0;32m     52\u001b[0m     sub_x_t_dt \u001b[38;5;241m=\u001b[39m (subB3D\u001b[38;5;241m.\u001b[39mx_t_TS[\u001b[38;5;241m-\u001b[39m\u001b[38;5;241m1\u001b[39m] \u001b[38;5;241m-\u001b[39m subB3D\u001b[38;5;241m.\u001b[39mx_t_TS[\u001b[38;5;241m-\u001b[39m\u001b[38;5;241m2\u001b[39m]) \u001b[38;5;241m*\u001b[39m \u001b[38;5;241m10\u001b[39m\n",
      "File \u001b[1;32mc:\\users\\lexi\\pycharmprojects\\barrier3d\\barrier3d\\barrier3d.py:936\u001b[0m, in \u001b[0;36mBarrier3d.update\u001b[1;34m(self)\u001b[0m\n\u001b[0;32m    929\u001b[0m \u001b[38;5;28;01mdef\u001b[39;00m \u001b[38;5;21mupdate\u001b[39m(\u001b[38;5;28mself\u001b[39m):\n\u001b[0;32m    930\u001b[0m \n\u001b[0;32m    931\u001b[0m     \u001b[38;5;66;03m# ###########################################\u001b[39;00m\n\u001b[1;32m   (...)\u001b[0m\n\u001b[0;32m    934\u001b[0m \n\u001b[0;32m    935\u001b[0m     \u001b[38;5;66;03m# ### RSLR\u001b[39;00m\n\u001b[1;32m--> 936\u001b[0m     \u001b[38;5;28mself\u001b[39m\u001b[38;5;241m.\u001b[39m_InteriorDomain, \u001b[38;5;28mself\u001b[39m\u001b[38;5;241m.\u001b[39m_DuneDomain \u001b[38;5;241m=\u001b[39m \u001b[38;5;28;43mself\u001b[39;49m\u001b[38;5;241;43m.\u001b[39;49m\u001b[43mSeaLevel\u001b[49m\u001b[43m(\u001b[49m\n\u001b[0;32m    937\u001b[0m \u001b[43m        \u001b[49m\u001b[38;5;28;43mself\u001b[39;49m\u001b[38;5;241;43m.\u001b[39;49m\u001b[43m_InteriorDomain\u001b[49m\u001b[43m,\u001b[49m\u001b[43m \u001b[49m\u001b[38;5;28;43mself\u001b[39;49m\u001b[38;5;241;43m.\u001b[39;49m\u001b[43m_DuneDomain\u001b[49m\u001b[43m,\u001b[49m\u001b[43m \u001b[49m\u001b[38;5;28;43mself\u001b[39;49m\u001b[38;5;241;43m.\u001b[39;49m\u001b[43m_time_index\u001b[49m\n\u001b[0;32m    938\u001b[0m \u001b[43m    \u001b[49m\u001b[43m)\u001b[49m\n\u001b[0;32m    940\u001b[0m     \u001b[38;5;66;03m# ### Find DomainWidth and InteriorWidth\u001b[39;00m\n\u001b[0;32m    941\u001b[0m     DomainWidth, InteriorWidth, InteriorWidth_Avg \u001b[38;5;241m=\u001b[39m \u001b[38;5;28mself\u001b[39m\u001b[38;5;241m.\u001b[39mFindWidths(\n\u001b[0;32m    942\u001b[0m         \u001b[38;5;28mself\u001b[39m\u001b[38;5;241m.\u001b[39m_InteriorDomain, \u001b[38;5;28mself\u001b[39m\u001b[38;5;241m.\u001b[39m_SL\n\u001b[0;32m    943\u001b[0m     )\n",
      "File \u001b[1;32mc:\\users\\lexi\\pycharmprojects\\barrier3d\\barrier3d\\barrier3d.py:17\u001b[0m, in \u001b[0;36mBarrier3d.SeaLevel\u001b[1;34m(self, InteriorDomain, DuneDomain, t)\u001b[0m\n\u001b[0;32m     14\u001b[0m \u001b[38;5;124;03m\"\"\"Accounts for relative sea level rise, returns updated elevation domains.\"\"\"\u001b[39;00m\n\u001b[0;32m     16\u001b[0m \u001b[38;5;66;03m# Decrease all elevation this year by RSLR increment\u001b[39;00m\n\u001b[1;32m---> 17\u001b[0m InteriorDomain \u001b[38;5;241m=\u001b[39m InteriorDomain \u001b[38;5;241m-\u001b[39m \u001b[38;5;28;43mself\u001b[39;49m\u001b[38;5;241;43m.\u001b[39;49m\u001b[43m_RSLR\u001b[49m\u001b[43m[\u001b[49m\u001b[43mt\u001b[49m\u001b[43m]\u001b[49m\n\u001b[0;32m     18\u001b[0m DuneDomain[t \u001b[38;5;241m-\u001b[39m \u001b[38;5;241m1\u001b[39m] \u001b[38;5;241m=\u001b[39m DuneDomain[t \u001b[38;5;241m-\u001b[39m \u001b[38;5;241m1\u001b[39m] \u001b[38;5;241m-\u001b[39m \u001b[38;5;28mself\u001b[39m\u001b[38;5;241m.\u001b[39m_RSLR[t]\n\u001b[0;32m     20\u001b[0m \u001b[38;5;66;03m# Bay can't be deeper than BayDepth (roughly equivalent to constant back-barrier slope)\u001b[39;00m\n",
      "\u001b[1;31mIndexError\u001b[0m: list index out of range"
     ]
    }
   ],
   "source": [
    "for time_step in range(cascade._nt - 1):\n",
    "    # Print time step to screen (NOTE: time_index in each model is time_step+1)\n",
    "    print(\"\\r\", \"Time Step: \", time_step, end=\"\")\n",
    "    cascade.update()\n",
    "    if cascade.b3d_break:\n",
    "        break\n",
    "    \n",
    "    fig1 = plt.figure()\n",
    "    ax1 = fig1.add_subplot(111)\n",
    "    mat = ax1.matshow(\n",
    "        np.flip(cascade.barrier3d[0]._DomainTS[time_step])*10,\n",
    "        cmap=\"terrain\",\n",
    "        vmin=-3.0, vmax=3.0,\n",
    "    )\n",
    "    cbar = fig1.colorbar(mat)\n",
    "    cbar.set_label('m MHW', rotation=270, labelpad=15)\n",
    "    ax1.set_title(\"Initial Elevation\")\n",
    "    ax1.set_ylabel(\"barrier width (dam)\")\n",
    "    ax1.set_xlabel(\"barrier length (dam)\")\n",
    "    plt.gca().xaxis.tick_bottom()\n",
    "    fig1.savefig(\"D:/NC State/Outwasher/Output/b3d_domains_master/domain_\" + str(time_step) + \".png\", facecolor='w')\n",
    "    plt.close()\n"
   ]
  },
  {
   "cell_type": "code",
   "execution_count": null,
   "id": "26edfdd3",
   "metadata": {},
   "outputs": [],
   "source": []
  }
 ],
 "metadata": {
  "kernelspec": {
   "display_name": "Python 3 (ipykernel)",
   "language": "python",
   "name": "python3"
  },
  "language_info": {
   "codemirror_mode": {
    "name": "ipython",
    "version": 3
   },
   "file_extension": ".py",
   "mimetype": "text/x-python",
   "name": "python",
   "nbconvert_exporter": "python",
   "pygments_lexer": "ipython3",
   "version": "3.8.8"
  }
 },
 "nbformat": 4,
 "nbformat_minor": 5
}
