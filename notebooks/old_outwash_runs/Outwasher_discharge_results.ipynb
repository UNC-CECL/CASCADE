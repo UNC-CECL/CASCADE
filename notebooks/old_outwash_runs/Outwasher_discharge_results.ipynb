{
 "cells": [
  {
   "cell_type": "markdown",
   "id": "38330403",
   "metadata": {},
   "source": [
    "When reversing the flow routing algorithm from Murray and Paola (1994), we tested the discharge at the initial time step so make sure the results made sense. \n",
    "\n",
    "The model calculates discharge based on the following equations:\n",
    "\n",
    "$U = \\sqrt{2gR_{excess}}$ ($m/s$)\n",
    "\n",
    "where $R_{excess}$ is the height of water measured from the bottom of the initial elevation cell\n",
    "\n",
    "$Q_0 = U*R_{excess}$ ($m^3/s$)\n",
    "\n",
    "These equations are for a velocity of water overtopping a dune, which may not work for our case, but we started here. This initial discharge amount is routed through the rest of the domain based on slope. "
   ]
  },
  {
   "cell_type": "code",
   "execution_count": 7,
   "id": "dc605170",
   "metadata": {},
   "outputs": [
    {
     "data": {
      "text/plain": [
       "'C:\\\\Users\\\\Lexi\\\\PycharmProjects\\\\CASCADE\\\\notebooks'"
      ]
     },
     "execution_count": 7,
     "metadata": {},
     "output_type": "execute_result"
    }
   ],
   "source": [
    "import os\n",
    "os.getcwd()"
   ]
  },
  {
   "cell_type": "markdown",
   "id": "a92aa37b",
   "metadata": {},
   "source": [
    "Here are the results for out base scenario: a bay, beach, and no dunes\n",
    "\n",
    "<img scr=\"../Lexi_tests/base_scenario.png\" alt=\"base\">"
   ]
  },
  {
   "cell_type": "markdown",
   "id": "46ad799b",
   "metadata": {},
   "source": [
    "We removed they bay to see if we would get more discharge, since the water had to make it past the -3 meter slope when crossing from the bay to the back barrier\n",
    "\n",
    "<img align = \"left\" src=\"../Lexi_tests/no_bay_elev.png\"> \n",
    "<img align = \"right\" scr = \"../Lexi_tests/no_bay_discharge.png\">"
   ]
  },
  {
   "cell_type": "markdown",
   "id": "d8330ab0",
   "metadata": {},
   "source": [
    "We then added to wall to be sure that water was not flowing in a physically impossible way\n",
    "\n",
    "<img align = \"left\" src=\"../Lexi_tests/wall_elev.png\">\n",
    "<img align = \"right\" scr = \"../Lexi_tests/wall_discharge.png\">"
   ]
  },
  {
   "cell_type": "markdown",
   "id": "ec5886b5",
   "metadata": {},
   "source": [
    "Lastly, we did a combination of taking away the bay and adding a wall\n",
    "\n",
    "<img align = \"left\" src=\"../Lexi_tests/wall_elev.png\">\n",
    "<img align = \"right\" scr = \"../Lexi_tests/wall_discharge.png\">"
   ]
  },
  {
   "cell_type": "code",
   "execution_count": null,
   "id": "66ee9e8e",
   "metadata": {},
   "outputs": [],
   "source": []
  }
 ],
 "metadata": {
  "kernelspec": {
   "display_name": "Python 3 (ipykernel)",
   "language": "python",
   "name": "python3"
  },
  "language_info": {
   "codemirror_mode": {
    "name": "ipython",
    "version": 3
   },
   "file_extension": ".py",
   "mimetype": "text/x-python",
   "name": "python",
   "nbconvert_exporter": "python",
   "pygments_lexer": "ipython3",
   "version": "3.8.8"
  }
 },
 "nbformat": 4,
 "nbformat_minor": 5
}
