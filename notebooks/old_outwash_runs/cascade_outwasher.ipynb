{
 "cells": [
  {
   "cell_type": "code",
   "execution_count": 1,
   "id": "4e923d2f",
   "metadata": {},
   "outputs": [],
   "source": [
    "import numpy as np\n",
    "import matplotlib.pyplot as plt\n",
    "from cascade import Cascade"
   ]
  },
  {
   "cell_type": "code",
   "execution_count": 2,
   "id": "637ae87a",
   "metadata": {},
   "outputs": [
    {
     "ename": "TypeError",
     "evalue": "from_yaml() got an unexpected keyword argument 'prefix'",
     "output_type": "error",
     "traceback": [
      "\u001b[1;31m---------------------------------------------------------------------------\u001b[0m",
      "\u001b[1;31mTypeError\u001b[0m                                 Traceback (most recent call last)",
      "Input \u001b[1;32mIn [2]\u001b[0m, in \u001b[0;36m<module>\u001b[1;34m\u001b[0m\n\u001b[0;32m      1\u001b[0m datadir \u001b[38;5;241m=\u001b[39m \u001b[38;5;124m\"\u001b[39m\u001b[38;5;124mC:/Users/Lexi/PycharmProjects/CASCADE/cascade/data/\u001b[39m\u001b[38;5;124m\"\u001b[39m\n\u001b[1;32m----> 2\u001b[0m cascade \u001b[38;5;241m=\u001b[39m \u001b[43mCascade\u001b[49m\u001b[43m(\u001b[49m\u001b[43mdatadir\u001b[49m\u001b[43m)\u001b[49m\n\u001b[0;32m      4\u001b[0m option1_name\u001b[38;5;241m=\u001b[39m \u001b[38;5;124m\"\u001b[39m\u001b[38;5;124moutwash_10years\u001b[39m\u001b[38;5;124m\"\u001b[39m\n\u001b[0;32m      5\u001b[0m iB3D \u001b[38;5;241m=\u001b[39m \u001b[38;5;241m0\u001b[39m\n",
      "File \u001b[1;32mc:\\users\\lexi\\pycharmprojects\\cascade\\cascade\\cascade.py:332\u001b[0m, in \u001b[0;36mCascade.__init__\u001b[1;34m(self, datadir, name, elevation_file, dune_file, parameter_file, storm_file, num_cores, roadway_management_module, alongshore_transport_module, beach_nourishment_module, community_economics_module, outwash_module, alongshore_section_count, time_step_count, wave_height, wave_period, wave_asymmetry, wave_angle_high_fraction, bay_depth, s_background, berm_elevation, MHW, beta, sea_level_rise_rate, sea_level_rise_constant, background_erosion, min_dune_growth_rate, max_dune_growth_rate, road_ele, road_width, road_setback, dune_design_elevation, dune_minimum_elevation, trigger_dune_knockdown, group_roadway_abandonment, nourishment_interval, nourishment_volume, overwash_filter, overwash_to_dune, number_of_communities, sand_cost, taxratio_oceanfront, external_housing_market_value_oceanfront, external_housing_market_value_nonoceanfront, fixed_cost_beach_nourishment, fixed_cost_dune_nourishment, nourishment_cost_subsidy, house_footprint_x, house_footprint_y, beach_full_cross_shore, outwash_storm_years, outwash_hydrograph, washout_to_shoreface)\u001b[0m\n\u001b[0;32m    318\u001b[0m \u001b[38;5;28mself\u001b[39m\u001b[38;5;241m.\u001b[39m_brie_coupler \u001b[38;5;241m=\u001b[39m BrieCoupler(\n\u001b[0;32m    319\u001b[0m     name\u001b[38;5;241m=\u001b[39mname,\n\u001b[0;32m    320\u001b[0m     wave_height\u001b[38;5;241m=\u001b[39m\u001b[38;5;28mself\u001b[39m\u001b[38;5;241m.\u001b[39m_wave_height,\n\u001b[1;32m   (...)\u001b[0m\n\u001b[0;32m    328\u001b[0m     nt\u001b[38;5;241m=\u001b[39m\u001b[38;5;28mself\u001b[39m\u001b[38;5;241m.\u001b[39m_nt,\n\u001b[0;32m    329\u001b[0m )\n\u001b[0;32m    331\u001b[0m \u001b[38;5;66;03m# initialize Barrier3D models (number set by brie_ny) and make both \"brie\" and \"barrier3d\" classes equivalent\u001b[39;00m\n\u001b[1;32m--> 332\u001b[0m \u001b[38;5;28mself\u001b[39m\u001b[38;5;241m.\u001b[39m_barrier3d \u001b[38;5;241m=\u001b[39m \u001b[43minitialize_equal\u001b[49m\u001b[43m(\u001b[49m\n\u001b[0;32m    333\u001b[0m \u001b[43m    \u001b[49m\u001b[43mdatadir\u001b[49m\u001b[38;5;241;43m=\u001b[39;49m\u001b[43mdatadir\u001b[49m\u001b[43m,\u001b[49m\n\u001b[0;32m    334\u001b[0m \u001b[43m    \u001b[49m\u001b[43mbrie\u001b[49m\u001b[38;5;241;43m=\u001b[39;49m\u001b[38;5;28;43mself\u001b[39;49m\u001b[38;5;241;43m.\u001b[39;49m\u001b[43m_brie_coupler\u001b[49m\u001b[38;5;241;43m.\u001b[39;49m\u001b[43m_brie\u001b[49m\u001b[43m,\u001b[49m\n\u001b[0;32m    335\u001b[0m \u001b[43m    \u001b[49m\u001b[43mslr_constant\u001b[49m\u001b[38;5;241;43m=\u001b[39;49m\u001b[38;5;28;43mself\u001b[39;49m\u001b[38;5;241;43m.\u001b[39;49m\u001b[43m_slr_constant\u001b[49m\u001b[43m,\u001b[49m\n\u001b[0;32m    336\u001b[0m \u001b[43m    \u001b[49m\u001b[43mrmin\u001b[49m\u001b[38;5;241;43m=\u001b[39;49m\u001b[38;5;28;43mself\u001b[39;49m\u001b[38;5;241;43m.\u001b[39;49m\u001b[43m_rmin\u001b[49m\u001b[43m,\u001b[49m\u001b[43m  \u001b[49m\u001b[38;5;66;43;03m# can be array\u001b[39;49;00m\n\u001b[0;32m    337\u001b[0m \u001b[43m    \u001b[49m\u001b[43mrmax\u001b[49m\u001b[38;5;241;43m=\u001b[39;49m\u001b[38;5;28;43mself\u001b[39;49m\u001b[38;5;241;43m.\u001b[39;49m\u001b[43m_rmax\u001b[49m\u001b[43m,\u001b[49m\u001b[43m  \u001b[49m\u001b[38;5;66;43;03m# can be array\u001b[39;49;00m\n\u001b[0;32m    338\u001b[0m \u001b[43m    \u001b[49m\u001b[43mbackground_erosion\u001b[49m\u001b[38;5;241;43m=\u001b[39;49m\u001b[38;5;28;43mself\u001b[39;49m\u001b[38;5;241;43m.\u001b[39;49m\u001b[43m_background_erosion\u001b[49m\u001b[43m,\u001b[49m\u001b[43m  \u001b[49m\u001b[38;5;66;43;03m# can be array\u001b[39;49;00m\n\u001b[0;32m    339\u001b[0m \u001b[43m    \u001b[49m\u001b[43mMHW\u001b[49m\u001b[38;5;241;43m=\u001b[39;49m\u001b[43mMHW\u001b[49m\u001b[43m,\u001b[49m\n\u001b[0;32m    340\u001b[0m \u001b[43m    \u001b[49m\u001b[43mbeta\u001b[49m\u001b[38;5;241;43m=\u001b[39;49m\u001b[43mbeta\u001b[49m\u001b[43m,\u001b[49m\n\u001b[0;32m    341\u001b[0m \u001b[43m    \u001b[49m\u001b[43mparameter_file\u001b[49m\u001b[38;5;241;43m=\u001b[39;49m\u001b[38;5;28;43mself\u001b[39;49m\u001b[38;5;241;43m.\u001b[39;49m\u001b[43m_parameter_file\u001b[49m\u001b[43m,\u001b[49m\n\u001b[0;32m    342\u001b[0m \u001b[43m    \u001b[49m\u001b[43mstorm_file\u001b[49m\u001b[38;5;241;43m=\u001b[39;49m\u001b[38;5;28;43mself\u001b[39;49m\u001b[38;5;241;43m.\u001b[39;49m\u001b[43m_storm_file\u001b[49m\u001b[43m,\u001b[49m\n\u001b[0;32m    343\u001b[0m \u001b[43m    \u001b[49m\u001b[43mdune_file\u001b[49m\u001b[38;5;241;43m=\u001b[39;49m\u001b[38;5;28;43mself\u001b[39;49m\u001b[38;5;241;43m.\u001b[39;49m\u001b[43m_dune_file\u001b[49m\u001b[43m,\u001b[49m\u001b[43m  \u001b[49m\u001b[38;5;66;43;03m# can be array\u001b[39;49;00m\n\u001b[0;32m    344\u001b[0m \u001b[43m    \u001b[49m\u001b[43melevation_file\u001b[49m\u001b[38;5;241;43m=\u001b[39;49m\u001b[38;5;28;43mself\u001b[39;49m\u001b[38;5;241;43m.\u001b[39;49m\u001b[43m_elevation_file\u001b[49m\u001b[43m,\u001b[49m\u001b[43m  \u001b[49m\u001b[38;5;66;43;03m# can be array\u001b[39;49;00m\n\u001b[0;32m    345\u001b[0m \u001b[43m\u001b[49m\u001b[43m)\u001b[49m\n\u001b[0;32m    347\u001b[0m \u001b[38;5;66;03m###############################################################################\u001b[39;00m\n\u001b[0;32m    348\u001b[0m \u001b[38;5;66;03m# initialize human dynamics modules\u001b[39;00m\n\u001b[0;32m    349\u001b[0m \u001b[38;5;66;03m###############################################################################\u001b[39;00m\n\u001b[0;32m    350\u001b[0m \n\u001b[0;32m    351\u001b[0m \u001b[38;5;66;03m# configure `self` to create lists of these variables; time series of these variables are saved in modules\u001b[39;00m\n\u001b[0;32m    352\u001b[0m \u001b[38;5;28mself\u001b[39m\u001b[38;5;241m.\u001b[39mmodule_lists(\n\u001b[0;32m    353\u001b[0m     dune_design_elevation\u001b[38;5;241m=\u001b[39mdune_design_elevation,\n\u001b[0;32m    354\u001b[0m     dune_minimum_elevation\u001b[38;5;241m=\u001b[39mdune_minimum_elevation,\n\u001b[1;32m   (...)\u001b[0m\n\u001b[0;32m    364\u001b[0m     outwash_module\u001b[38;5;241m=\u001b[39moutwash_module,\n\u001b[0;32m    365\u001b[0m )\n",
      "File \u001b[1;32mc:\\users\\lexi\\pycharmprojects\\cascade\\cascade\\brie_coupler.py:181\u001b[0m, in \u001b[0;36minitialize_equal\u001b[1;34m(datadir, brie, slr_constant, rmin, rmax, background_erosion, parameter_file, storm_file, dune_file, elevation_file, MHW, beta)\u001b[0m\n\u001b[0;32m    176\u001b[0m set_yaml(\u001b[38;5;124m\"\u001b[39m\u001b[38;5;124mbeta\u001b[39m\u001b[38;5;124m\"\u001b[39m, beta, fid)  \u001b[38;5;66;03m# beach slope for runup calculations\u001b[39;00m\n\u001b[0;32m    177\u001b[0m set_yaml(\n\u001b[0;32m    178\u001b[0m     \u001b[38;5;124m\"\u001b[39m\u001b[38;5;124mBermEl\u001b[39m\u001b[38;5;124m\"\u001b[39m, \u001b[38;5;28mfloat\u001b[39m(brie\u001b[38;5;241m.\u001b[39m_h_b_crit), fid\n\u001b[0;32m    179\u001b[0m )  \u001b[38;5;66;03m# [m] static elevation of berm\u001b[39;00m\n\u001b[1;32m--> 181\u001b[0m barrier3d\u001b[38;5;241m.\u001b[39mappend(\u001b[43mBarrier3d\u001b[49m\u001b[38;5;241;43m.\u001b[39;49m\u001b[43mfrom_yaml\u001b[49m\u001b[43m(\u001b[49m\u001b[43mdatadir\u001b[49m\u001b[43m,\u001b[49m\u001b[43m \u001b[49m\u001b[43mprefix\u001b[49m\u001b[38;5;241;43m=\u001b[39;49m\u001b[43mparameter_file_prefix\u001b[49m\u001b[43m)\u001b[49m)\n\u001b[0;32m    183\u001b[0m \u001b[38;5;66;03m# now update the BRIE barrier geometry and SLR variables from Barrier3D so that all the initial conditions are\u001b[39;00m\n\u001b[0;32m    184\u001b[0m \u001b[38;5;66;03m# the same! The rate of SLR can only be constant in brie, whereas it can accelerate in Barrier3D, so by\u001b[39;00m\n\u001b[0;32m    185\u001b[0m \u001b[38;5;66;03m# replacing the SLR time series in BRIE with that from Barrier3D we enable new functionality!\u001b[39;00m\n\u001b[0;32m    186\u001b[0m \u001b[38;5;66;03m# NOTE: interestingly here we don't need to have a \"setter\" in the property class for x_b, h_b, etc. because\u001b[39;00m\n\u001b[0;32m    187\u001b[0m \u001b[38;5;66;03m# we are only replacing certain indices but added for completeness\u001b[39;00m\n\u001b[0;32m    188\u001b[0m brie\u001b[38;5;241m.\u001b[39mx_b[iB3D] \u001b[38;5;241m=\u001b[39m (\n\u001b[0;32m    189\u001b[0m     barrier3d[iB3D]\u001b[38;5;241m.\u001b[39mx_b_TS[\u001b[38;5;241m0\u001b[39m] \u001b[38;5;241m*\u001b[39m \u001b[38;5;241m10\u001b[39m\n\u001b[0;32m    190\u001b[0m )  \u001b[38;5;66;03m# the shoreline position + average interior width\u001b[39;00m\n",
      "\u001b[1;31mTypeError\u001b[0m: from_yaml() got an unexpected keyword argument 'prefix'"
     ]
    }
   ],
   "source": [
    "datadir = \"C:/Users/Lexi/PycharmProjects/CASCADE/cascade/data/\"\n",
    "cascade = Cascade(datadir)\n",
    "\n",
    "option1_name= \"outwash_10years\"\n",
    "iB3D = 0\n",
    "total_time = 100\n",
    "\n",
    "cascade = Cascade(\n",
    "    datadir\n",
    ")"
   ]
  },
  {
   "cell_type": "code",
   "execution_count": null,
   "id": "fd5f5a27",
   "metadata": {},
   "outputs": [],
   "source": []
  }
 ],
 "metadata": {
  "kernelspec": {
   "display_name": "Python 3 (ipykernel)",
   "language": "python",
   "name": "python3"
  },
  "language_info": {
   "codemirror_mode": {
    "name": "ipython",
    "version": 3
   },
   "file_extension": ".py",
   "mimetype": "text/x-python",
   "name": "python",
   "nbconvert_exporter": "python",
   "pygments_lexer": "ipython3",
   "version": "3.8.8"
  }
 },
 "nbformat": 4,
 "nbformat_minor": 5
}
