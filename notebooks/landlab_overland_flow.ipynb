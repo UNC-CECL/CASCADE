{
 "cells": [
  {
   "cell_type": "code",
   "execution_count": 5,
   "id": "181dc7b6",
   "metadata": {},
   "outputs": [
    {
     "name": "stdout",
     "output_type": "stream",
     "text": [
      "Collecting landlab\n",
      "  Using cached landlab-2.5.0-cp38-cp38-win_amd64.whl (2.8 MB)\n",
      "Requirement already satisfied: scipy in c:\\users\\lexi\\pycharmprojects\\cascade\\venv\\lib\\site-packages (from landlab) (1.5.4)\n",
      "Requirement already satisfied: bmipy in c:\\users\\lexi\\pycharmprojects\\cascade\\venv\\lib\\site-packages (from landlab) (2.0)\n",
      "Collecting pyshp\n",
      "  Using cached pyshp-2.3.0-py2.py3-none-any.whl (46 kB)\n",
      "Requirement already satisfied: statsmodels in c:\\users\\lexi\\pycharmprojects\\cascade\\venv\\lib\\site-packages (from landlab) (0.13.1)\n",
      "Requirement already satisfied: pandas in c:\\users\\lexi\\pycharmprojects\\cascade\\venv\\lib\\site-packages (from landlab) (1.1.4)\n",
      "Collecting richdem\n",
      "  Using cached richdem-0.3.4.tar.gz (329 kB)\n",
      "  Preparing metadata (setup.py): started\n",
      "  Preparing metadata (setup.py): finished with status 'done'\n",
      "Collecting netcdf4\n",
      "  Using cached netCDF4-1.5.8-cp38-cp38-win_amd64.whl (3.0 MB)\n",
      "Requirement already satisfied: matplotlib in c:\\users\\lexi\\pycharmprojects\\cascade\\venv\\lib\\site-packages (from landlab) (3.3.4)\n",
      "Requirement already satisfied: numpy in c:\\users\\lexi\\pycharmprojects\\cascade\\venv\\lib\\site-packages (from landlab) (1.19.5)\n",
      "Collecting xarray>=0.16\n",
      "  Using cached xarray-2022.3.0-py3-none-any.whl (870 kB)\n",
      "Requirement already satisfied: pyyaml in c:\\users\\lexi\\pycharmprojects\\cascade\\venv\\lib\\site-packages (from landlab) (5.4.1)\n",
      "Requirement already satisfied: packaging>=20.0 in c:\\users\\lexi\\pycharmprojects\\cascade\\venv\\lib\\site-packages (from xarray>=0.16->landlab) (21.3)\n",
      "Requirement already satisfied: python-dateutil>=2.7.3 in c:\\users\\lexi\\pycharmprojects\\cascade\\venv\\lib\\site-packages (from pandas->landlab) (2.8.2)\n",
      "Requirement already satisfied: pytz>=2017.2 in c:\\users\\lexi\\pycharmprojects\\cascade\\venv\\lib\\site-packages (from pandas->landlab) (2021.3)\n",
      "Requirement already satisfied: click in c:\\users\\lexi\\pycharmprojects\\cascade\\venv\\lib\\site-packages (from bmipy->landlab) (7.1.2)\n",
      "Requirement already satisfied: black in c:\\users\\lexi\\pycharmprojects\\cascade\\venv\\lib\\site-packages (from bmipy->landlab) (21.12b0)\n",
      "Requirement already satisfied: jinja2 in c:\\users\\lexi\\pycharmprojects\\cascade\\venv\\lib\\site-packages (from bmipy->landlab) (3.0.3)\n",
      "Requirement already satisfied: pillow>=6.2.0 in c:\\users\\lexi\\pycharmprojects\\cascade\\venv\\lib\\site-packages (from matplotlib->landlab) (9.0.0)\n",
      "Requirement already satisfied: cycler>=0.10 in c:\\users\\lexi\\pycharmprojects\\cascade\\venv\\lib\\site-packages (from matplotlib->landlab) (0.11.0)\n",
      "Requirement already satisfied: pyparsing!=2.0.4,!=2.1.2,!=2.1.6,>=2.0.3 in c:\\users\\lexi\\pycharmprojects\\cascade\\venv\\lib\\site-packages (from matplotlib->landlab) (3.0.6)\n",
      "Requirement already satisfied: kiwisolver>=1.0.1 in c:\\users\\lexi\\pycharmprojects\\cascade\\venv\\lib\\site-packages (from matplotlib->landlab) (1.3.2)\n",
      "Collecting cftime\n",
      "  Using cached cftime-1.6.0-cp38-none-win_amd64.whl (161 kB)\n",
      "Requirement already satisfied: patsy>=0.5.2 in c:\\users\\lexi\\pycharmprojects\\cascade\\venv\\lib\\site-packages (from statsmodels->landlab) (0.5.2)\n",
      "Requirement already satisfied: six in c:\\users\\lexi\\pycharmprojects\\cascade\\venv\\lib\\site-packages (from patsy>=0.5.2->statsmodels->landlab) (1.16.0)\n",
      "Requirement already satisfied: mypy-extensions>=0.4.3 in c:\\users\\lexi\\pycharmprojects\\cascade\\venv\\lib\\site-packages (from black->bmipy->landlab) (0.4.3)\n",
      "Requirement already satisfied: tomli<2.0.0,>=0.2.6 in c:\\users\\lexi\\pycharmprojects\\cascade\\venv\\lib\\site-packages (from black->bmipy->landlab) (1.2.3)\n",
      "Requirement already satisfied: pathspec<1,>=0.9.0 in c:\\users\\lexi\\pycharmprojects\\cascade\\venv\\lib\\site-packages (from black->bmipy->landlab) (0.9.0)\n",
      "Requirement already satisfied: typing-extensions>=3.10.0.0 in c:\\users\\lexi\\pycharmprojects\\cascade\\venv\\lib\\site-packages (from black->bmipy->landlab) (4.0.1)\n",
      "Requirement already satisfied: platformdirs>=2 in c:\\users\\lexi\\pycharmprojects\\cascade\\venv\\lib\\site-packages (from black->bmipy->landlab) (2.4.1)\n",
      "Requirement already satisfied: MarkupSafe>=2.0 in c:\\users\\lexi\\pycharmprojects\\cascade\\venv\\lib\\site-packages (from jinja2->bmipy->landlab) (2.0.1)\n",
      "Building wheels for collected packages: richdem\n",
      "  Building wheel for richdem (setup.py): started\n",
      "  Building wheel for richdem (setup.py): finished with status 'error'\n",
      "  Running setup.py clean for richdem\n",
      "Failed to build richdem\n",
      "Installing collected packages: richdem, pyshp, cftime, netcdf4, xarray, landlab\n",
      "  Running setup.py install for richdem: started\n",
      "  Running setup.py install for richdem: finished with status 'error'\n",
      "Note: you may need to restart the kernel to use updated packages.\n"
     ]
    },
    {
     "name": "stderr",
     "output_type": "stream",
     "text": [
      "  error: subprocess-exited-with-error\n",
      "  \n",
      "  python setup.py bdist_wheel did not run successfully.\n",
      "  exit code: 1\n",
      "  \n",
      "  [14 lines of output]\n",
      "  Using RichDEM hash=Unknown, time=Unknown\n",
      "  running bdist_wheel\n",
      "  running build\n",
      "  running build_py\n",
      "  creating build\n",
      "  creating build\\lib.win-amd64-3.8\n",
      "  creating build\\lib.win-amd64-3.8\\richdem\n",
      "  copying richdem\\cli.py -> build\\lib.win-amd64-3.8\\richdem\n",
      "  copying richdem\\__init__.py -> build\\lib.win-amd64-3.8\\richdem\n",
      "  running build_ext\n",
      "  COMPILER msvc\n",
      "  COMPILER ARGUMENTS ['-std=c++11', '-g', '-fvisibility=hidden', '-O3']\n",
      "  building '_richdem' extension\n",
      "  error: Microsoft Visual C++ 14.0 or greater is required. Get it with \"Microsoft C++ Build Tools\": https://visualstudio.microsoft.com/visual-cpp-build-tools/\n",
      "  [end of output]\n",
      "  \n",
      "  note: This error originates from a subprocess, and is likely not a problem with pip.\n",
      "  ERROR: Failed building wheel for richdem\n",
      "  error: subprocess-exited-with-error\n",
      "  \n",
      "  Running setup.py install for richdem did not run successfully.\n",
      "  exit code: 1\n",
      "  \n",
      "  [14 lines of output]\n",
      "  Using RichDEM hash=Unknown, time=Unknown\n",
      "  running install\n",
      "  running build\n",
      "  running build_py\n",
      "  creating build\n",
      "  creating build\\lib.win-amd64-3.8\n",
      "  creating build\\lib.win-amd64-3.8\\richdem\n",
      "  copying richdem\\cli.py -> build\\lib.win-amd64-3.8\\richdem\n",
      "  copying richdem\\__init__.py -> build\\lib.win-amd64-3.8\\richdem\n",
      "  running build_ext\n",
      "  COMPILER msvc\n",
      "  COMPILER ARGUMENTS ['-std=c++11', '-g', '-fvisibility=hidden', '-O3']\n",
      "  building '_richdem' extension\n",
      "  error: Microsoft Visual C++ 14.0 or greater is required. Get it with \"Microsoft C++ Build Tools\": https://visualstudio.microsoft.com/visual-cpp-build-tools/\n",
      "  [end of output]\n",
      "  \n",
      "  note: This error originates from a subprocess, and is likely not a problem with pip.\n",
      "error: legacy-install-failure\n",
      "\n",
      "Encountered error while trying to install package.\n",
      "\n",
      "richdem\n",
      "\n",
      "note: This is an issue with the package mentioned above, not pip.\n",
      "hint: See above for output from the failure.\n",
      "WARNING: You are using pip version 22.0.4; however, version 22.1.2 is available.\n",
      "You should consider upgrading via the 'c:\\users\\lexi\\pycharmprojects\\cascade\\venv\\scripts\\python.exe -m pip install --upgrade pip' command.\n"
     ]
    }
   ],
   "source": [
    "pip install landlab"
   ]
  },
  {
   "cell_type": "code",
   "execution_count": 6,
   "id": "d5a3b168",
   "metadata": {},
   "outputs": [
    {
     "ename": "ModuleNotFoundError",
     "evalue": "No module named 'landlab'",
     "output_type": "error",
     "traceback": [
      "\u001b[1;31m---------------------------------------------------------------------------\u001b[0m",
      "\u001b[1;31mModuleNotFoundError\u001b[0m                       Traceback (most recent call last)",
      "Input \u001b[1;32mIn [6]\u001b[0m, in \u001b[0;36m<module>\u001b[1;34m\u001b[0m\n\u001b[0;32m      1\u001b[0m \u001b[38;5;28;01mimport\u001b[39;00m \u001b[38;5;21;01mnumpy\u001b[39;00m \u001b[38;5;28;01mas\u001b[39;00m \u001b[38;5;21;01mnp\u001b[39;00m\n\u001b[1;32m----> 2\u001b[0m \u001b[38;5;28;01mfrom\u001b[39;00m \u001b[38;5;21;01mlandlab\u001b[39;00m \u001b[38;5;28;01mimport\u001b[39;00m RasterModelGrid\n\u001b[0;32m      3\u001b[0m \u001b[38;5;28;01mfrom\u001b[39;00m \u001b[38;5;21;01mlandlab\u001b[39;00m\u001b[38;5;21;01m.\u001b[39;00m\u001b[38;5;21;01mcomponents\u001b[39;00m\u001b[38;5;21;01m.\u001b[39;00m\u001b[38;5;21;01moverland_flow\u001b[39;00m \u001b[38;5;28;01mimport\u001b[39;00m OverlandFlow\n",
      "\u001b[1;31mModuleNotFoundError\u001b[0m: No module named 'landlab'"
     ]
    }
   ],
   "source": [
    "import numpy as np\n",
    "from landlab import RasterModelGrid\n",
    "from landlab.components.overland_flow import OverlandFlow"
   ]
  },
  {
   "cell_type": "code",
   "execution_count": null,
   "id": "d2210b42",
   "metadata": {},
   "outputs": [],
   "source": []
  }
 ],
 "metadata": {
  "kernelspec": {
   "display_name": "Python 3 (ipykernel)",
   "language": "python",
   "name": "python3"
  },
  "language_info": {
   "codemirror_mode": {
    "name": "ipython",
    "version": 3
   },
   "file_extension": ".py",
   "mimetype": "text/x-python",
   "name": "python",
   "nbconvert_exporter": "python",
   "pygments_lexer": "ipython3",
   "version": "3.8.8"
  }
 },
 "nbformat": 4,
 "nbformat_minor": 5
}
