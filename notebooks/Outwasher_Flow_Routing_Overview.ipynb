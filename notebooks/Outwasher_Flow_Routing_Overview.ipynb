{
 "cells": [
  {
   "cell_type": "markdown",
   "id": "6c5e2ee8",
   "metadata": {},
   "source": [
    "# Outwasher module flow routing algorithm: changes from Barrier3d"
   ]
  },
  {
   "cell_type": "markdown",
   "id": "d789a3d5",
   "metadata": {},
   "source": [
    "Currently, the outwasher module has no dunes or shrubs in the system and also routes water in the opposite direction as Barrier3d. Therefore, significant changes have been made to Outwasher's flow routing algorithm (*removed all variables/segments of codes with dunes*). We still use many parameters from Barrier3D, but we start by initializing our own storm series. The first position is the year the storm occurs, second is the bayhigh level in dam, and third is the duration in hours. This differs from B3D's storm series which has a few more columns. "
   ]
  },
  {
   "cell_type": "markdown",
   "id": "0020409b",
   "metadata": {},
   "source": [
    "```Python\n",
    "        storm_series = [[1, 0.1, 40], [1, 0.2, 57], [1, 0.05, 65]]\n",
    "```"
   ]
  },
  {
   "cell_type": "markdown",
   "id": "ccc4c624",
   "metadata": {},
   "source": [
    "Then, we initialize numstorm as the length of storm series instead of setting it to 0 and <b>REMOVE<b>: \n",
    "```Python\n",
    "        start = TSloc[0, 0]\n",
    "        stop = TSloc[-1, 0] + 1\n",
    "        Rhigh = self._StormSeries[start:stop, 1]\n",
    "        Rlow = self._StormSeries[start:stop, 2]\n",
    "        dur = np.array(self._StormSeries[start:stop, 4], dtype=\"int\")\n",
    "```\n",
    "from right under the `if numstorm > 0:` statement because it is mostly used for dune stuff. Rhigh is replaced with bayhigh and dur is set later."
   ]
  },
  {
   "cell_type": "markdown",
   "id": "8557872b",
   "metadata": {},
   "source": [
    "We enter the storm loop, and set the `bayhigh` and `dur` using the current storm number (n):\n",
    "```Python\n",
    "        for n in range(numstorm):\n",
    "            bayhigh = storm_series[n][1]\n",
    "            dur = storm_series[n][2]\n",
    "```\n",
    "\n",
    "Then we alter the sediment and water routing rules to use only the inundation regime because this is when we will get outwash events: \n",
    "``` Python\n",
    "            ### Determine Sediment And Water Routing Rules\n",
    "            inundation = 1\n",
    "            substep = b3d._OWss_i\n",
    "\n",
    "```\n",
    "And lastly in this section, we set the domain. This is very similar to B3D except we flip the interior domain so that we have bayside on top and oceanside on bottom, and we also create a beach of constant elevation and add it to the interioir domain on the oceanside. The `width` and `elevation` variables have not changed from B3D, and `Discharge, SedFluxIn, and SedFLuxOut` were also initialized the same way. We do change the way that Si is calculated from B3D which is `AvgSlope = self._BermEl / 20`\n",
    "```Python\n",
    "            ### Set Domain\n",
    "            add = 10\n",
    "            interior_domain = np.flip(b3d._InteriorDomain, 0)\n",
    "            beach_domain = np.ones([add, b3d._BarrierLength]) * b3d._BermEl\n",
    "            full_domain = np.append(interior_domain, beach_domain, 0)\n",
    "            \n",
    "            ## width is the number of rows in the full domain\n",
    "            width = np.shape(full_domain)[0]\n",
    "            duration = dur * substep\n",
    "            Elevation = np.zeros([duration, width, b3d._BarrierLength])\n",
    "            # elevation at the first time step is set to the full domain\n",
    "            Elevation[0, :, :] = full_domain\n",
    "\n",
    "            # Initialize Memory Storage Arrays\n",
    "            Discharge = np.zeros([duration, width, b3d._BarrierLength])\n",
    "            SedFluxIn = np.zeros([duration, width, b3d._BarrierLength])\n",
    "            SedFluxOut = np.zeros([duration, width, b3d._BarrierLength])\n",
    "\n",
    "            # get the average slope of the inerior using first and last rows of just the interior domain\n",
    "            # should be negative because the first row is close to bay and last row close to \"dunes\"\n",
    "            Si = np.mean((interior_domain[-1, :] - interior_domain[0, :]) / 20)\n",
    "```\n",
    "The `### Set Water at Dune Crest` has only chnaged names of variables, but will probably need to be changed because it is not an accurate representation of what occurs during outwash. \n",
    "```Python\n",
    "            # ### Set Water at Dune Crest\n",
    "            # these equations will probably need to be changed\n",
    "            Rexcess = bayhigh\n",
    "            overtop_vel = np.sqrt(2 * 9.8 * (Rexcess * 10)) / 10  # (dam/s)\n",
    "            overtop_flow = overtop_vel * Rexcess * 3600  # (dam^3/hr)\n",
    "            # our initial discharge amount starts at the first row and is later distributed down the rows/cols\n",
    "            Discharge[:, 0, :] = overtop_flow\n",
    "            C = b3d._Cx * Si  # 10 x the avg slope (from Murray)\n",
    "\n",
    "```\n"
   ]
  },
  {
   "cell_type": "markdown",
   "id": "5d34ba17",
   "metadata": {},
   "source": [
    "We have removed the `### Dune Erosion` and `### Overwash` sections because they are for dunes. "
   ]
  },
  {
   "cell_type": "markdown",
   "id": "d337673f",
   "metadata": {},
   "source": [
    "The `### Run Flow Routing Algorithm` has not changed much aside from removing all dune and shrub segments. The outer most loop is for each time step (TS), then for each row (d), and lastly for each column (i). The `fluxLimit` has been changed to an arbitrary value for now. The next area that has changes to it is the `### Calculate Net Erosion/Accretion` because the current algorithm does not make sense for our flow. In B3D, the algorithm looks at 10 rows at a time and determines if any are under water (at or under bay elevation) because it is routing water toward the bay. If there are no cells under water, the elevation change at the particular row and column is determined by the sediment flux in versus sediment flux out. If any of the 10 rows are under water, the sediment is distributed exponentially across the bay. \n",
    "```Python \n",
    "            if Elevation[TS, d, i] > self._SL or any(\n",
    "                z > self._SL\n",
    "                for z in Elevation[TS, d + 1 : d + 10, i]\n",
    "            ):  # If cell is subaerial, elevation change is determined by difference between\n",
    "                # flux in vs. flux out\n",
    "                if i > 0:\n",
    "                    SedFluxIn[TS, d + 1, i - 1] += Qs1\n",
    "\n",
    "                SedFluxIn[TS, d + 1, i] += Qs2\n",
    "\n",
    "                if i < (self._BarrierLength - 1):\n",
    "                    SedFluxIn[TS, d + 1, i + 1] += Qs3\n",
    "\n",
    "                Qs_out = Qs1 + Qs2 + Qs3\n",
    "                SedFluxOut[TS, d, i] = Qs_out\n",
    "\n",
    "            else:  # If cell is subaqeous, exponentially decay dep. of remaining sed across bay\n",
    "\n",
    "                if inundation == 0:\n",
    "                    Cbb = self._Cbb_r\n",
    "                else:\n",
    "                    Cbb = self._Cbb_i\n",
    "\n",
    "                Qs0 = SedFluxIn[TS, d, i] * Cbb\n",
    "\n",
    "                Qs1 = Qs0 * Q1 / (Q1 + Q2 + Q3)\n",
    "                Qs2 = Qs0 * Q2 / (Q1 + Q2 + Q3)\n",
    "                Qs3 = Qs0 * Q3 / (Q1 + Q2 + Q3)\n",
    "\n",
    "                Qs1 = np.nan_to_num(Qs1)\n",
    "                Qs2 = np.nan_to_num(Qs2)\n",
    "                Qs3 = np.nan_to_num(Qs3)\n",
    "\n",
    "                if Qs1 < self._Qs_bb_min:\n",
    "                    Qs1 = 0\n",
    "                elif Qs1 > fluxLimit:\n",
    "                    Qs1 = fluxLimit\n",
    "                if Qs2 < self._Qs_bb_min:\n",
    "                    Qs2 = 0\n",
    "                elif Qs2 > fluxLimit:\n",
    "                    Qs2 = fluxLimit\n",
    "                if Qs3 < self._Qs_bb_min:\n",
    "                    Qs3 = 0\n",
    "                elif Qs3 > fluxLimit:\n",
    "                    Qs3 = fluxLimit\n",
    "\n",
    "                if i > 0:\n",
    "                    SedFluxIn[TS, d + 1, i - 1] += Qs1\n",
    "\n",
    "                SedFluxIn[TS, d + 1, i] += Qs2\n",
    "\n",
    "                if i < (self._BarrierLength - 1):\n",
    "                    SedFluxIn[TS, d + 1, i + 1] += Qs3\n",
    "\n",
    "                Qs_out = Qs1 + Qs2 + Qs3\n",
    "                SedFluxOut[TS, d, i] = Qs_out\n",
    "```\n",
    "This obviously does not make sense when we are routing water in the opposite direction. Therefore, we look for the beach elevation instead of the bay elevation, and if there is a beach elevation, we exponentially decay the sediment across the beach. STILL NEEDS TO BE WRITTEN BY ME"
   ]
  },
  {
   "cell_type": "markdown",
   "id": "68c58125",
   "metadata": {},
   "source": [
    "The `### Update Elevation After Every Storm Hour` and the `### Update Interior Domain After Every Storm` have not changed aside from removing dunes and shrubs."
   ]
  },
  {
   "cell_type": "code",
   "execution_count": 1,
   "id": "1a816b54",
   "metadata": {},
   "outputs": [
    {
     "data": {
      "image/png": "[encoded data removed]",
      "text/plain": [
       "<Figure size 320x288 with 2 Axes>"
      ]
     },
     "metadata": {
      "needs_background": "light"
     },
     "output_type": "display_data"
    },
    {
     "data": {
      "image/png": "[encoded data removed]",
      "text/plain": [
       "<Figure size 288x316.8 with 2 Axes>"
      ]
     },
     "metadata": {
      "needs_background": "light"
     },
     "output_type": "display_data"
    }
   ],
   "source": [
    "from cascade import outwasher"
   ]
  }
 ],
 "metadata": {
  "kernelspec": {
   "display_name": "Python 3 (ipykernel)",
   "language": "python",
   "name": "python3"
  },
  "language_info": {
   "codemirror_mode": {
    "name": "ipython",
    "version": 3
   },
   "file_extension": ".py",
   "mimetype": "text/x-python",
   "name": "python",
   "nbconvert_exporter": "python",
   "pygments_lexer": "ipython3",
   "version": "3.8.8"
  }
 },
 "nbformat": 4,
 "nbformat_minor": 5
}
