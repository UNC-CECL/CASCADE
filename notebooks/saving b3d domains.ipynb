{
 "cells": [
  {
   "cell_type": "code",
   "execution_count": 4,
   "id": "eb029479",
   "metadata": {},
   "outputs": [],
   "source": [
    "import numpy as np\n",
    "import os\n",
    "from matplotlib import pyplot as plt\n",
    "\n",
    "plt.rcParams['figure.figsize'] = (7,6)\n",
    "datadir = r\"C:\\Users\\Lexi\\Documents\\Research\\Outwasher\\domains\\b3d_domains\\Elevation_data\"\n",
    "for file in os.listdir(datadir):\n",
    "    file_path = datadir + \"/\" + file\n",
    "    plt.rcParams.update({\"font.size\": 15})\n",
    "    domain = np.load(file_path)\n",
    "    fig1 = plt.figure()\n",
    "    ax1 = fig1.add_subplot(111)\n",
    "    mat = ax1.matshow(\n",
    "        domain*10,\n",
    "        cmap=\"terrain\",\n",
    "        vmin=-3.0, vmax=3.0,\n",
    "    )\n",
    "    cbar = fig1.colorbar(mat)\n",
    "    cbar.set_label('m MHW', rotation=270, labelpad=15)\n",
    "    xtick_max = np.shape(domain)[1]  # n_cols = x\n",
    "    x_ticks = np.array(range(0, xtick_max, 10))\n",
    "    x_tick_labels = x_ticks * 10\n",
    "    ytick_max = np.shape(domain)[0]  # n_rows = y\n",
    "    y_ticks = np.array(range(0, ytick_max, 10))\n",
    "    y_tick_labels = y_ticks * 10\n",
    "    plt.xticks(x_ticks, x_tick_labels)\n",
    "    plt.yticks(y_ticks, y_tick_labels)\n",
    "    \n",
    "    ax1.set_title(\"Initial Elevation\")\n",
    "    ax1.set_ylabel(\"barrier width (m)\")\n",
    "    ax1.set_xlabel(\"barrier length (m)\")\n",
    "    plt.gca().xaxis.tick_bottom()\n",
    "    path = r\"C:\\Users\\Lexi\\Documents\\Research\\Outwasher\\domains\\b3d_domains\\Elevations_meters/\" + file.replace(\".npy\", \"\")\n",
    "    fig1.savefig(path, facecolor='w')\n",
    "    plt.close(fig1)\n",
    "    "
   ]
  },
  {
   "cell_type": "code",
   "execution_count": null,
   "id": "fbab74a8",
   "metadata": {},
   "outputs": [],
   "source": []
  }
 ],
 "metadata": {
  "kernelspec": {
   "display_name": "Python 3 (ipykernel)",
   "language": "python",
   "name": "python3"
  },
  "language_info": {
   "codemirror_mode": {
    "name": "ipython",
    "version": 3
   },
   "file_extension": ".py",
   "mimetype": "text/x-python",
   "name": "python",
   "nbconvert_exporter": "python",
   "pygments_lexer": "ipython3",
   "version": "3.8.8"
  }
 },
 "nbformat": 4,
 "nbformat_minor": 5
}
